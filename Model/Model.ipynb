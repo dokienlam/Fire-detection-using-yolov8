{
  "nbformat": 4,
  "nbformat_minor": 0,
  "metadata": {
    "colab": {
      "provenance": [],
      "gpuType": "T4"
    },
    "kernelspec": {
      "name": "python3",
      "display_name": "Python 3"
    },
    "language_info": {
      "name": "python"
    },
    "accelerator": "GPU"
  },
  "cells": [
    {
      "cell_type": "code",
      "execution_count": null,
      "metadata": {
        "colab": {
          "base_uri": "https://localhost:8080/"
        },
        "id": "dPU1Ro8T7BcF",
        "outputId": "73070997-65b2-4268-c95c-8618c9066b53"
      },
      "outputs": [
        {
          "output_type": "stream",
          "name": "stdout",
          "text": [
            "Drive already mounted at /content/drive; to attempt to forcibly remount, call drive.mount(\"/content/drive\", force_remount=True).\n"
          ]
        }
      ],
      "source": [
        "from google.colab import drive\n",
        "drive.mount('/content/drive')"
      ]
    },
    {
      "cell_type": "code",
      "source": [
        "!ls"
      ],
      "metadata": {
        "id": "J29IrBQC7LhT"
      },
      "execution_count": null,
      "outputs": []
    },
    {
      "cell_type": "code",
      "source": [
        "!cd '/content/drive/MyDrive/Fire_detec/data_yolo'"
      ],
      "metadata": {
        "id": "iIDFdnxo7o-L"
      },
      "execution_count": null,
      "outputs": []
    },
    {
      "cell_type": "code",
      "source": [
        "!unzip '/content/drive/MyDrive/Fire_detec/data_yolo/fire_yolo.zip'"
      ],
      "metadata": {
        "id": "2oXbX6DK7sKJ"
      },
      "execution_count": null,
      "outputs": []
    },
    {
      "cell_type": "code",
      "source": [
        "!pip install ultralytics\n"
      ],
      "metadata": {
        "id": "ojk6VHjsWuC4"
      },
      "execution_count": null,
      "outputs": []
    },
    {
      "cell_type": "code",
      "source": [
        "import os\n",
        "from ultralytics import YOLO\n"
      ],
      "metadata": {
        "id": "6Vn-ce3D7tcT"
      },
      "execution_count": null,
      "outputs": []
    },
    {
      "cell_type": "code",
      "source": [
        "path='/content/drive/MyDrive/Fire_detec/data_yolo/Fire_data/images/'\n",
        "for i in os.listdir(path):\n",
        "  path_img_test = os.path.join(path,i)\n",
        "  print(path_img_test)"
      ],
      "metadata": {
        "colab": {
          "base_uri": "https://localhost:8080/"
        },
        "id": "VwEyIHm_WOLZ",
        "outputId": "2d995574-2a74-4813-b278-18a5d86de5b1"
      },
      "execution_count": null,
      "outputs": [
        {
          "output_type": "stream",
          "name": "stdout",
          "text": [
            "/content/drive/MyDrive/Fire_detec/data_yolo/Fire_data/images/test\n",
            "/content/drive/MyDrive/Fire_detec/data_yolo/Fire_data/images/train\n",
            "/content/drive/MyDrive/Fire_detec/data_yolo/Fire_data/images/valid\n"
          ]
        }
      ]
    },
    {
      "cell_type": "code",
      "source": [
        "import yaml"
      ],
      "metadata": {
        "id": "FbKWZ8vQVLdd"
      },
      "execution_count": null,
      "outputs": []
    },
    {
      "cell_type": "code",
      "source": [
        "yaml_file ='/content/drive/MyDrive/Fire_detec/data_yolo/Fire_data/data_fire.yaml'"
      ],
      "metadata": {
        "id": "TJhJtZEXTpzW"
      },
      "execution_count": null,
      "outputs": []
    },
    {
      "cell_type": "code",
      "source": [
        "data = {\n",
        "    'test' : '/content/drive/MyDrive/Fire_detec/data_yolo/Fire_data/images/test',\n",
        "    'val' : '/content/drive/MyDrive/Fire_detec/data_yolo/Fire_data/images/valid',\n",
        "    'train' :'/content/drive/MyDrive/Fire_detec/data_yolo/Fire_data/images/train',\n",
        "    'nc' : 1 ,\n",
        "    'names': ['Fire'],\n",
        "    'iou_thres': 0.5,\n",
        "    'conf_thres': 0.5\n",
        "\n",
        "\n",
        "}"
      ],
      "metadata": {
        "id": "8ChMUNSoUbfh"
      },
      "execution_count": null,
      "outputs": []
    },
    {
      "cell_type": "code",
      "source": [
        "with open(yaml_file ,'w') as file:\n",
        "  yaml.dump(data, file)"
      ],
      "metadata": {
        "id": "jtGY_6onT0Um"
      },
      "execution_count": null,
      "outputs": []
    },
    {
      "cell_type": "code",
      "source": [
        "model=YOLO('yolov8s.pt')\n",
        "model.train(data=yaml_file,epochs=50,patience=5,batch=8,\n",
        "                    lr0=0.0005,imgsz=640)\n"
      ],
      "metadata": {
        "colab": {
          "base_uri": "https://localhost:8080/"
        },
        "id": "4Uc20337T0hc",
        "outputId": "e8ea5a47-f42b-4f97-9036-04f6eaac5e01"
      },
      "execution_count": null,
      "outputs": [
        {
          "output_type": "stream",
          "name": "stdout",
          "text": [
            "Ultralytics YOLOv8.1.24 🚀 Python-3.10.12 torch-2.1.0+cu121 CUDA:0 (Tesla T4, 15102MiB)\n",
            "\u001b[34m\u001b[1mengine/trainer: \u001b[0mtask=detect, mode=train, model=yolov8s.pt, data=/content/drive/MyDrive/Fire_detec/data_yolo/Fire_data/data_fire.yaml, epochs=50, time=None, patience=5, batch=8, imgsz=640, save=True, save_period=-1, cache=False, device=None, workers=8, project=None, name=train7, exist_ok=False, pretrained=True, optimizer=auto, verbose=True, seed=0, deterministic=True, single_cls=False, rect=False, cos_lr=False, close_mosaic=10, resume=False, amp=True, fraction=1.0, profile=False, freeze=None, multi_scale=False, overlap_mask=True, mask_ratio=4, dropout=0.0, val=True, split=val, save_json=False, save_hybrid=False, conf=None, iou=0.7, max_det=300, half=False, dnn=False, plots=True, source=None, vid_stride=1, stream_buffer=False, visualize=False, augment=False, agnostic_nms=False, classes=None, retina_masks=False, embed=None, show=False, save_frames=False, save_txt=False, save_conf=False, save_crop=False, show_labels=True, show_conf=True, show_boxes=True, line_width=None, format=torchscript, keras=False, optimize=False, int8=False, dynamic=False, simplify=False, opset=None, workspace=4, nms=False, lr0=0.0005, lrf=0.01, momentum=0.937, weight_decay=0.0005, warmup_epochs=3.0, warmup_momentum=0.8, warmup_bias_lr=0.1, box=7.5, cls=0.5, dfl=1.5, pose=12.0, kobj=1.0, label_smoothing=0.0, nbs=64, hsv_h=0.015, hsv_s=0.7, hsv_v=0.4, degrees=0.0, translate=0.1, scale=0.5, shear=0.0, perspective=0.0, flipud=0.0, fliplr=0.5, mosaic=1.0, mixup=0.0, copy_paste=0.0, auto_augment=randaugment, erasing=0.4, crop_fraction=1.0, cfg=None, tracker=botsort.yaml, save_dir=runs/detect/train7\n",
            "Overriding model.yaml nc=80 with nc=1\n",
            "\n",
            "                   from  n    params  module                                       arguments                     \n",
            "  0                  -1  1       928  ultralytics.nn.modules.conv.Conv             [3, 32, 3, 2]                 \n",
            "  1                  -1  1     18560  ultralytics.nn.modules.conv.Conv             [32, 64, 3, 2]                \n",
            "  2                  -1  1     29056  ultralytics.nn.modules.block.C2f             [64, 64, 1, True]             \n",
            "  3                  -1  1     73984  ultralytics.nn.modules.conv.Conv             [64, 128, 3, 2]               \n",
            "  4                  -1  2    197632  ultralytics.nn.modules.block.C2f             [128, 128, 2, True]           \n",
            "  5                  -1  1    295424  ultralytics.nn.modules.conv.Conv             [128, 256, 3, 2]              \n",
            "  6                  -1  2    788480  ultralytics.nn.modules.block.C2f             [256, 256, 2, True]           \n",
            "  7                  -1  1   1180672  ultralytics.nn.modules.conv.Conv             [256, 512, 3, 2]              \n",
            "  8                  -1  1   1838080  ultralytics.nn.modules.block.C2f             [512, 512, 1, True]           \n",
            "  9                  -1  1    656896  ultralytics.nn.modules.block.SPPF            [512, 512, 5]                 \n",
            " 10                  -1  1         0  torch.nn.modules.upsampling.Upsample         [None, 2, 'nearest']          \n",
            " 11             [-1, 6]  1         0  ultralytics.nn.modules.conv.Concat           [1]                           \n",
            " 12                  -1  1    591360  ultralytics.nn.modules.block.C2f             [768, 256, 1]                 \n",
            " 13                  -1  1         0  torch.nn.modules.upsampling.Upsample         [None, 2, 'nearest']          \n",
            " 14             [-1, 4]  1         0  ultralytics.nn.modules.conv.Concat           [1]                           \n",
            " 15                  -1  1    148224  ultralytics.nn.modules.block.C2f             [384, 128, 1]                 \n",
            " 16                  -1  1    147712  ultralytics.nn.modules.conv.Conv             [128, 128, 3, 2]              \n",
            " 17            [-1, 12]  1         0  ultralytics.nn.modules.conv.Concat           [1]                           \n",
            " 18                  -1  1    493056  ultralytics.nn.modules.block.C2f             [384, 256, 1]                 \n",
            " 19                  -1  1    590336  ultralytics.nn.modules.conv.Conv             [256, 256, 3, 2]              \n",
            " 20             [-1, 9]  1         0  ultralytics.nn.modules.conv.Concat           [1]                           \n",
            " 21                  -1  1   1969152  ultralytics.nn.modules.block.C2f             [768, 512, 1]                 \n",
            " 22        [15, 18, 21]  1   2116435  ultralytics.nn.modules.head.Detect           [1, [128, 256, 512]]          \n",
            "Model summary: 225 layers, 11135987 parameters, 11135971 gradients, 28.6 GFLOPs\n",
            "\n",
            "Transferred 349/355 items from pretrained weights\n",
            "\u001b[34m\u001b[1mTensorBoard: \u001b[0mStart with 'tensorboard --logdir runs/detect/train7', view at http://localhost:6006/\n",
            "Freezing layer 'model.22.dfl.conv.weight'\n",
            "\u001b[34m\u001b[1mAMP: \u001b[0mrunning Automatic Mixed Precision (AMP) checks with YOLOv8n...\n",
            "\u001b[34m\u001b[1mAMP: \u001b[0mchecks passed ✅\n"
          ]
        },
        {
          "output_type": "stream",
          "name": "stderr",
          "text": [
            "\u001b[34m\u001b[1mtrain: \u001b[0mScanning /content/drive/.shortcut-targets-by-id/1ye6FPXSGNEp9WmpNiOWNWJBec_5mdEXB/Fire_detec/data_yolo/Fire_data/labels/train.cache... 300 images, 0 backgrounds, 0 corrupt: 100%|██████████| 300/300 [00:00<?, ?it/s]\n"
          ]
        },
        {
          "output_type": "stream",
          "name": "stdout",
          "text": [
            "\u001b[34m\u001b[1malbumentations: \u001b[0mBlur(p=0.01, blur_limit=(3, 7)), MedianBlur(p=0.01, blur_limit=(3, 7)), ToGray(p=0.01), CLAHE(p=0.01, clip_limit=(1, 4.0), tile_grid_size=(8, 8))\n"
          ]
        },
        {
          "output_type": "stream",
          "name": "stderr",
          "text": [
            "\u001b[34m\u001b[1mval: \u001b[0mScanning /content/drive/.shortcut-targets-by-id/1ye6FPXSGNEp9WmpNiOWNWJBec_5mdEXB/Fire_detec/data_yolo/Fire_data/labels/valid.cache... 10 images, 0 backgrounds, 0 corrupt: 100%|██████████| 10/10 [00:00<?, ?it/s]\n"
          ]
        },
        {
          "output_type": "stream",
          "name": "stdout",
          "text": [
            "Plotting labels to runs/detect/train7/labels.jpg... \n",
            "\u001b[34m\u001b[1moptimizer:\u001b[0m 'optimizer=auto' found, ignoring 'lr0=0.0005' and 'momentum=0.937' and determining best 'optimizer', 'lr0' and 'momentum' automatically... \n",
            "\u001b[34m\u001b[1moptimizer:\u001b[0m AdamW(lr=0.002, momentum=0.9) with parameter groups 57 weight(decay=0.0), 64 weight(decay=0.0005), 63 bias(decay=0.0)\n",
            "\u001b[34m\u001b[1mTensorBoard: \u001b[0mmodel graph visualization added ✅\n",
            "Image sizes 640 train, 640 val\n",
            "Using 2 dataloader workers\n",
            "Logging results to \u001b[1mruns/detect/train7\u001b[0m\n",
            "Starting training for 50 epochs...\n",
            "\n",
            "      Epoch    GPU_mem   box_loss   cls_loss   dfl_loss  Instances       Size\n"
          ]
        },
        {
          "output_type": "stream",
          "name": "stderr",
          "text": [
            "       1/50      2.28G      2.536      3.365      1.889         38        640: 100%|██████████| 38/38 [00:15<00:00,  2.50it/s]\n",
            "                 Class     Images  Instances      Box(P          R      mAP50  mAP50-95): 100%|██████████| 1/1 [00:00<00:00,  2.35it/s]"
          ]
        },
        {
          "output_type": "stream",
          "name": "stdout",
          "text": [
            "                   all         10         67      0.145      0.164        0.1     0.0328\n"
          ]
        },
        {
          "output_type": "stream",
          "name": "stderr",
          "text": [
            "\n"
          ]
        },
        {
          "output_type": "stream",
          "name": "stdout",
          "text": [
            "\n",
            "      Epoch    GPU_mem   box_loss   cls_loss   dfl_loss  Instances       Size\n"
          ]
        },
        {
          "output_type": "stream",
          "name": "stderr",
          "text": [
            "       2/50      2.35G      2.318      2.359      1.772         40        640: 100%|██████████| 38/38 [00:12<00:00,  3.16it/s]\n",
            "                 Class     Images  Instances      Box(P          R      mAP50  mAP50-95): 100%|██████████| 1/1 [00:00<00:00,  6.56it/s]"
          ]
        },
        {
          "output_type": "stream",
          "name": "stdout",
          "text": [
            "                   all         10         67      0.285      0.194      0.179     0.0677\n"
          ]
        },
        {
          "output_type": "stream",
          "name": "stderr",
          "text": [
            "\n"
          ]
        },
        {
          "output_type": "stream",
          "name": "stdout",
          "text": [
            "\n",
            "      Epoch    GPU_mem   box_loss   cls_loss   dfl_loss  Instances       Size\n"
          ]
        },
        {
          "output_type": "stream",
          "name": "stderr",
          "text": [
            "       3/50      2.34G      2.418      2.433      1.857         43        640: 100%|██████████| 38/38 [00:11<00:00,  3.19it/s]\n",
            "                 Class     Images  Instances      Box(P          R      mAP50  mAP50-95): 100%|██████████| 1/1 [00:00<00:00,  3.31it/s]"
          ]
        },
        {
          "output_type": "stream",
          "name": "stdout",
          "text": [
            "                   all         10         67     0.0967      0.179      0.059     0.0185\n"
          ]
        },
        {
          "output_type": "stream",
          "name": "stderr",
          "text": [
            "\n"
          ]
        },
        {
          "output_type": "stream",
          "name": "stdout",
          "text": [
            "\n",
            "      Epoch    GPU_mem   box_loss   cls_loss   dfl_loss  Instances       Size\n"
          ]
        },
        {
          "output_type": "stream",
          "name": "stderr",
          "text": [
            "       4/50      2.35G      2.388      2.335      1.868         64        640: 100%|██████████| 38/38 [00:11<00:00,  3.35it/s]\n",
            "                 Class     Images  Instances      Box(P          R      mAP50  mAP50-95): 100%|██████████| 1/1 [00:00<00:00,  4.80it/s]"
          ]
        },
        {
          "output_type": "stream",
          "name": "stdout",
          "text": [
            "                   all         10         67      0.145      0.373      0.125      0.036\n"
          ]
        },
        {
          "output_type": "stream",
          "name": "stderr",
          "text": [
            "\n"
          ]
        },
        {
          "output_type": "stream",
          "name": "stdout",
          "text": [
            "\n",
            "      Epoch    GPU_mem   box_loss   cls_loss   dfl_loss  Instances       Size\n"
          ]
        },
        {
          "output_type": "stream",
          "name": "stderr",
          "text": [
            "       5/50      2.37G      2.376      2.301      1.863         24        640: 100%|██████████| 38/38 [00:11<00:00,  3.27it/s]\n",
            "                 Class     Images  Instances      Box(P          R      mAP50  mAP50-95): 100%|██████████| 1/1 [00:00<00:00,  4.53it/s]"
          ]
        },
        {
          "output_type": "stream",
          "name": "stdout",
          "text": [
            "                   all         10         67      0.206      0.194     0.0977     0.0302\n"
          ]
        },
        {
          "output_type": "stream",
          "name": "stderr",
          "text": [
            "\n"
          ]
        },
        {
          "output_type": "stream",
          "name": "stdout",
          "text": [
            "\n",
            "      Epoch    GPU_mem   box_loss   cls_loss   dfl_loss  Instances       Size\n"
          ]
        },
        {
          "output_type": "stream",
          "name": "stderr",
          "text": [
            "       6/50      2.36G      2.352      2.209      1.851         47        640: 100%|██████████| 38/38 [00:11<00:00,  3.26it/s]\n",
            "                 Class     Images  Instances      Box(P          R      mAP50  mAP50-95): 100%|██████████| 1/1 [00:00<00:00,  5.06it/s]"
          ]
        },
        {
          "output_type": "stream",
          "name": "stdout",
          "text": [
            "                   all         10         67      0.145      0.269      0.138     0.0515\n"
          ]
        },
        {
          "output_type": "stream",
          "name": "stderr",
          "text": [
            "\n"
          ]
        },
        {
          "output_type": "stream",
          "name": "stdout",
          "text": [
            "\n",
            "      Epoch    GPU_mem   box_loss   cls_loss   dfl_loss  Instances       Size\n"
          ]
        },
        {
          "output_type": "stream",
          "name": "stderr",
          "text": [
            "       7/50      2.37G      2.366       2.21      1.816         56        640: 100%|██████████| 38/38 [00:10<00:00,  3.46it/s]\n",
            "                 Class     Images  Instances      Box(P          R      mAP50  mAP50-95): 100%|██████████| 1/1 [00:00<00:00,  2.97it/s]"
          ]
        },
        {
          "output_type": "stream",
          "name": "stdout",
          "text": [
            "                   all         10         67      0.299      0.172     0.0868     0.0202\n",
            "Stopping training early as no improvement observed in last 5 epochs. Best results observed at epoch 2, best model saved as best.pt.\n",
            "To update EarlyStopping(patience=5) pass a new patience value, i.e. `patience=300` or use `patience=0` to disable EarlyStopping.\n"
          ]
        },
        {
          "output_type": "stream",
          "name": "stderr",
          "text": [
            "\n"
          ]
        },
        {
          "output_type": "stream",
          "name": "stdout",
          "text": [
            "\n",
            "7 epochs completed in 0.027 hours.\n",
            "Optimizer stripped from runs/detect/train7/weights/last.pt, 22.5MB\n",
            "Optimizer stripped from runs/detect/train7/weights/best.pt, 22.5MB\n",
            "\n",
            "Validating runs/detect/train7/weights/best.pt...\n",
            "Ultralytics YOLOv8.1.24 🚀 Python-3.10.12 torch-2.1.0+cu121 CUDA:0 (Tesla T4, 15102MiB)\n",
            "Model summary (fused): 168 layers, 11125971 parameters, 0 gradients, 28.4 GFLOPs\n"
          ]
        },
        {
          "output_type": "stream",
          "name": "stderr",
          "text": [
            "                 Class     Images  Instances      Box(P          R      mAP50  mAP50-95): 100%|██████████| 1/1 [00:00<00:00,  6.28it/s]\n"
          ]
        },
        {
          "output_type": "stream",
          "name": "stdout",
          "text": [
            "                   all         10         67      0.277      0.194      0.179     0.0674\n",
            "Speed: 0.2ms preprocess, 4.8ms inference, 0.0ms loss, 3.4ms postprocess per image\n",
            "Results saved to \u001b[1mruns/detect/train7\u001b[0m\n"
          ]
        },
        {
          "output_type": "execute_result",
          "data": {
            "text/plain": [
              "ultralytics.utils.metrics.DetMetrics object with attributes:\n",
              "\n",
              "ap_class_index: array([0])\n",
              "box: ultralytics.utils.metrics.Metric object\n",
              "confusion_matrix: <ultralytics.utils.metrics.ConfusionMatrix object at 0x7c9a1e237ac0>\n",
              "curves: ['Precision-Recall(B)', 'F1-Confidence(B)', 'Precision-Confidence(B)', 'Recall-Confidence(B)']\n",
              "curves_results: [[array([          0,    0.001001,    0.002002,    0.003003,    0.004004,    0.005005,    0.006006,    0.007007,    0.008008,    0.009009,     0.01001,    0.011011,    0.012012,    0.013013,    0.014014,    0.015015,    0.016016,    0.017017,    0.018018,    0.019019,     0.02002,    0.021021,    0.022022,    0.023023,\n",
              "          0.024024,    0.025025,    0.026026,    0.027027,    0.028028,    0.029029,     0.03003,    0.031031,    0.032032,    0.033033,    0.034034,    0.035035,    0.036036,    0.037037,    0.038038,    0.039039,     0.04004,    0.041041,    0.042042,    0.043043,    0.044044,    0.045045,    0.046046,    0.047047,\n",
              "          0.048048,    0.049049,     0.05005,    0.051051,    0.052052,    0.053053,    0.054054,    0.055055,    0.056056,    0.057057,    0.058058,    0.059059,     0.06006,    0.061061,    0.062062,    0.063063,    0.064064,    0.065065,    0.066066,    0.067067,    0.068068,    0.069069,     0.07007,    0.071071,\n",
              "          0.072072,    0.073073,    0.074074,    0.075075,    0.076076,    0.077077,    0.078078,    0.079079,     0.08008,    0.081081,    0.082082,    0.083083,    0.084084,    0.085085,    0.086086,    0.087087,    0.088088,    0.089089,     0.09009,    0.091091,    0.092092,    0.093093,    0.094094,    0.095095,\n",
              "          0.096096,    0.097097,    0.098098,    0.099099,      0.1001,      0.1011,      0.1021,      0.1031,      0.1041,     0.10511,     0.10611,     0.10711,     0.10811,     0.10911,     0.11011,     0.11111,     0.11211,     0.11311,     0.11411,     0.11512,     0.11612,     0.11712,     0.11812,     0.11912,\n",
              "           0.12012,     0.12112,     0.12212,     0.12312,     0.12412,     0.12513,     0.12613,     0.12713,     0.12813,     0.12913,     0.13013,     0.13113,     0.13213,     0.13313,     0.13413,     0.13514,     0.13614,     0.13714,     0.13814,     0.13914,     0.14014,     0.14114,     0.14214,     0.14314,\n",
              "           0.14414,     0.14515,     0.14615,     0.14715,     0.14815,     0.14915,     0.15015,     0.15115,     0.15215,     0.15315,     0.15415,     0.15516,     0.15616,     0.15716,     0.15816,     0.15916,     0.16016,     0.16116,     0.16216,     0.16316,     0.16416,     0.16517,     0.16617,     0.16717,\n",
              "           0.16817,     0.16917,     0.17017,     0.17117,     0.17217,     0.17317,     0.17417,     0.17518,     0.17618,     0.17718,     0.17818,     0.17918,     0.18018,     0.18118,     0.18218,     0.18318,     0.18418,     0.18519,     0.18619,     0.18719,     0.18819,     0.18919,     0.19019,     0.19119,\n",
              "           0.19219,     0.19319,     0.19419,      0.1952,      0.1962,      0.1972,      0.1982,      0.1992,      0.2002,      0.2012,      0.2022,      0.2032,      0.2042,     0.20521,     0.20621,     0.20721,     0.20821,     0.20921,     0.21021,     0.21121,     0.21221,     0.21321,     0.21421,     0.21522,\n",
              "           0.21622,     0.21722,     0.21822,     0.21922,     0.22022,     0.22122,     0.22222,     0.22322,     0.22422,     0.22523,     0.22623,     0.22723,     0.22823,     0.22923,     0.23023,     0.23123,     0.23223,     0.23323,     0.23423,     0.23524,     0.23624,     0.23724,     0.23824,     0.23924,\n",
              "           0.24024,     0.24124,     0.24224,     0.24324,     0.24424,     0.24525,     0.24625,     0.24725,     0.24825,     0.24925,     0.25025,     0.25125,     0.25225,     0.25325,     0.25425,     0.25526,     0.25626,     0.25726,     0.25826,     0.25926,     0.26026,     0.26126,     0.26226,     0.26326,\n",
              "           0.26426,     0.26527,     0.26627,     0.26727,     0.26827,     0.26927,     0.27027,     0.27127,     0.27227,     0.27327,     0.27427,     0.27528,     0.27628,     0.27728,     0.27828,     0.27928,     0.28028,     0.28128,     0.28228,     0.28328,     0.28428,     0.28529,     0.28629,     0.28729,\n",
              "           0.28829,     0.28929,     0.29029,     0.29129,     0.29229,     0.29329,     0.29429,      0.2953,      0.2963,      0.2973,      0.2983,      0.2993,      0.3003,      0.3013,      0.3023,      0.3033,      0.3043,     0.30531,     0.30631,     0.30731,     0.30831,     0.30931,     0.31031,     0.31131,\n",
              "           0.31231,     0.31331,     0.31431,     0.31532,     0.31632,     0.31732,     0.31832,     0.31932,     0.32032,     0.32132,     0.32232,     0.32332,     0.32432,     0.32533,     0.32633,     0.32733,     0.32833,     0.32933,     0.33033,     0.33133,     0.33233,     0.33333,     0.33433,     0.33534,\n",
              "           0.33634,     0.33734,     0.33834,     0.33934,     0.34034,     0.34134,     0.34234,     0.34334,     0.34434,     0.34535,     0.34635,     0.34735,     0.34835,     0.34935,     0.35035,     0.35135,     0.35235,     0.35335,     0.35435,     0.35536,     0.35636,     0.35736,     0.35836,     0.35936,\n",
              "           0.36036,     0.36136,     0.36236,     0.36336,     0.36436,     0.36537,     0.36637,     0.36737,     0.36837,     0.36937,     0.37037,     0.37137,     0.37237,     0.37337,     0.37437,     0.37538,     0.37638,     0.37738,     0.37838,     0.37938,     0.38038,     0.38138,     0.38238,     0.38338,\n",
              "           0.38438,     0.38539,     0.38639,     0.38739,     0.38839,     0.38939,     0.39039,     0.39139,     0.39239,     0.39339,     0.39439,      0.3954,      0.3964,      0.3974,      0.3984,      0.3994,      0.4004,      0.4014,      0.4024,      0.4034,      0.4044,     0.40541,     0.40641,     0.40741,\n",
              "           0.40841,     0.40941,     0.41041,     0.41141,     0.41241,     0.41341,     0.41441,     0.41542,     0.41642,     0.41742,     0.41842,     0.41942,     0.42042,     0.42142,     0.42242,     0.42342,     0.42442,     0.42543,     0.42643,     0.42743,     0.42843,     0.42943,     0.43043,     0.43143,\n",
              "           0.43243,     0.43343,     0.43443,     0.43544,     0.43644,     0.43744,     0.43844,     0.43944,     0.44044,     0.44144,     0.44244,     0.44344,     0.44444,     0.44545,     0.44645,     0.44745,     0.44845,     0.44945,     0.45045,     0.45145,     0.45245,     0.45345,     0.45445,     0.45546,\n",
              "           0.45646,     0.45746,     0.45846,     0.45946,     0.46046,     0.46146,     0.46246,     0.46346,     0.46446,     0.46547,     0.46647,     0.46747,     0.46847,     0.46947,     0.47047,     0.47147,     0.47247,     0.47347,     0.47447,     0.47548,     0.47648,     0.47748,     0.47848,     0.47948,\n",
              "           0.48048,     0.48148,     0.48248,     0.48348,     0.48448,     0.48549,     0.48649,     0.48749,     0.48849,     0.48949,     0.49049,     0.49149,     0.49249,     0.49349,     0.49449,      0.4955,      0.4965,      0.4975,      0.4985,      0.4995,      0.5005,      0.5015,      0.5025,      0.5035,\n",
              "            0.5045,     0.50551,     0.50651,     0.50751,     0.50851,     0.50951,     0.51051,     0.51151,     0.51251,     0.51351,     0.51451,     0.51552,     0.51652,     0.51752,     0.51852,     0.51952,     0.52052,     0.52152,     0.52252,     0.52352,     0.52452,     0.52553,     0.52653,     0.52753,\n",
              "           0.52853,     0.52953,     0.53053,     0.53153,     0.53253,     0.53353,     0.53453,     0.53554,     0.53654,     0.53754,     0.53854,     0.53954,     0.54054,     0.54154,     0.54254,     0.54354,     0.54454,     0.54555,     0.54655,     0.54755,     0.54855,     0.54955,     0.55055,     0.55155,\n",
              "           0.55255,     0.55355,     0.55455,     0.55556,     0.55656,     0.55756,     0.55856,     0.55956,     0.56056,     0.56156,     0.56256,     0.56356,     0.56456,     0.56557,     0.56657,     0.56757,     0.56857,     0.56957,     0.57057,     0.57157,     0.57257,     0.57357,     0.57457,     0.57558,\n",
              "           0.57658,     0.57758,     0.57858,     0.57958,     0.58058,     0.58158,     0.58258,     0.58358,     0.58458,     0.58559,     0.58659,     0.58759,     0.58859,     0.58959,     0.59059,     0.59159,     0.59259,     0.59359,     0.59459,      0.5956,      0.5966,      0.5976,      0.5986,      0.5996,\n",
              "            0.6006,      0.6016,      0.6026,      0.6036,      0.6046,     0.60561,     0.60661,     0.60761,     0.60861,     0.60961,     0.61061,     0.61161,     0.61261,     0.61361,     0.61461,     0.61562,     0.61662,     0.61762,     0.61862,     0.61962,     0.62062,     0.62162,     0.62262,     0.62362,\n",
              "           0.62462,     0.62563,     0.62663,     0.62763,     0.62863,     0.62963,     0.63063,     0.63163,     0.63263,     0.63363,     0.63463,     0.63564,     0.63664,     0.63764,     0.63864,     0.63964,     0.64064,     0.64164,     0.64264,     0.64364,     0.64464,     0.64565,     0.64665,     0.64765,\n",
              "           0.64865,     0.64965,     0.65065,     0.65165,     0.65265,     0.65365,     0.65465,     0.65566,     0.65666,     0.65766,     0.65866,     0.65966,     0.66066,     0.66166,     0.66266,     0.66366,     0.66466,     0.66567,     0.66667,     0.66767,     0.66867,     0.66967,     0.67067,     0.67167,\n",
              "           0.67267,     0.67367,     0.67467,     0.67568,     0.67668,     0.67768,     0.67868,     0.67968,     0.68068,     0.68168,     0.68268,     0.68368,     0.68468,     0.68569,     0.68669,     0.68769,     0.68869,     0.68969,     0.69069,     0.69169,     0.69269,     0.69369,     0.69469,      0.6957,\n",
              "            0.6967,      0.6977,      0.6987,      0.6997,      0.7007,      0.7017,      0.7027,      0.7037,      0.7047,     0.70571,     0.70671,     0.70771,     0.70871,     0.70971,     0.71071,     0.71171,     0.71271,     0.71371,     0.71471,     0.71572,     0.71672,     0.71772,     0.71872,     0.71972,\n",
              "           0.72072,     0.72172,     0.72272,     0.72372,     0.72472,     0.72573,     0.72673,     0.72773,     0.72873,     0.72973,     0.73073,     0.73173,     0.73273,     0.73373,     0.73473,     0.73574,     0.73674,     0.73774,     0.73874,     0.73974,     0.74074,     0.74174,     0.74274,     0.74374,\n",
              "           0.74474,     0.74575,     0.74675,     0.74775,     0.74875,     0.74975,     0.75075,     0.75175,     0.75275,     0.75375,     0.75475,     0.75576,     0.75676,     0.75776,     0.75876,     0.75976,     0.76076,     0.76176,     0.76276,     0.76376,     0.76476,     0.76577,     0.76677,     0.76777,\n",
              "           0.76877,     0.76977,     0.77077,     0.77177,     0.77277,     0.77377,     0.77477,     0.77578,     0.77678,     0.77778,     0.77878,     0.77978,     0.78078,     0.78178,     0.78278,     0.78378,     0.78478,     0.78579,     0.78679,     0.78779,     0.78879,     0.78979,     0.79079,     0.79179,\n",
              "           0.79279,     0.79379,     0.79479,      0.7958,      0.7968,      0.7978,      0.7988,      0.7998,      0.8008,      0.8018,      0.8028,      0.8038,      0.8048,     0.80581,     0.80681,     0.80781,     0.80881,     0.80981,     0.81081,     0.81181,     0.81281,     0.81381,     0.81481,     0.81582,\n",
              "           0.81682,     0.81782,     0.81882,     0.81982,     0.82082,     0.82182,     0.82282,     0.82382,     0.82482,     0.82583,     0.82683,     0.82783,     0.82883,     0.82983,     0.83083,     0.83183,     0.83283,     0.83383,     0.83483,     0.83584,     0.83684,     0.83784,     0.83884,     0.83984,\n",
              "           0.84084,     0.84184,     0.84284,     0.84384,     0.84484,     0.84585,     0.84685,     0.84785,     0.84885,     0.84985,     0.85085,     0.85185,     0.85285,     0.85385,     0.85485,     0.85586,     0.85686,     0.85786,     0.85886,     0.85986,     0.86086,     0.86186,     0.86286,     0.86386,\n",
              "           0.86486,     0.86587,     0.86687,     0.86787,     0.86887,     0.86987,     0.87087,     0.87187,     0.87287,     0.87387,     0.87487,     0.87588,     0.87688,     0.87788,     0.87888,     0.87988,     0.88088,     0.88188,     0.88288,     0.88388,     0.88488,     0.88589,     0.88689,     0.88789,\n",
              "           0.88889,     0.88989,     0.89089,     0.89189,     0.89289,     0.89389,     0.89489,      0.8959,      0.8969,      0.8979,      0.8989,      0.8999,      0.9009,      0.9019,      0.9029,      0.9039,      0.9049,     0.90591,     0.90691,     0.90791,     0.90891,     0.90991,     0.91091,     0.91191,\n",
              "           0.91291,     0.91391,     0.91491,     0.91592,     0.91692,     0.91792,     0.91892,     0.91992,     0.92092,     0.92192,     0.92292,     0.92392,     0.92492,     0.92593,     0.92693,     0.92793,     0.92893,     0.92993,     0.93093,     0.93193,     0.93293,     0.93393,     0.93493,     0.93594,\n",
              "           0.93694,     0.93794,     0.93894,     0.93994,     0.94094,     0.94194,     0.94294,     0.94394,     0.94494,     0.94595,     0.94695,     0.94795,     0.94895,     0.94995,     0.95095,     0.95195,     0.95295,     0.95395,     0.95495,     0.95596,     0.95696,     0.95796,     0.95896,     0.95996,\n",
              "           0.96096,     0.96196,     0.96296,     0.96396,     0.96496,     0.96597,     0.96697,     0.96797,     0.96897,     0.96997,     0.97097,     0.97197,     0.97297,     0.97397,     0.97497,     0.97598,     0.97698,     0.97798,     0.97898,     0.97998,     0.98098,     0.98198,     0.98298,     0.98398,\n",
              "           0.98498,     0.98599,     0.98699,     0.98799,     0.98899,     0.98999,     0.99099,     0.99199,     0.99299,     0.99399,     0.99499,       0.996,       0.997,       0.998,       0.999,           1]), array([[          1,           1,           1,           1,           1,           1,           1,           1,           1,           1,           1,           1,           1,           1,           1,     0.83333,     0.83333,     0.83333,     0.83333,     0.83333,     0.83333,     0.83333,     0.83333,\n",
              "            0.83333,     0.83333,     0.83333,     0.83333,     0.83333,     0.83333,     0.83333,     0.83333,     0.83333,     0.83333,     0.83333,     0.83333,     0.83333,     0.83333,     0.83333,     0.83333,     0.83333,     0.83333,     0.83333,     0.83333,     0.83333,     0.83333,     0.83333,\n",
              "            0.83333,     0.83333,     0.83333,     0.83333,     0.83333,     0.83333,     0.83333,     0.83333,     0.83333,     0.83333,     0.83333,     0.83333,     0.83333,     0.83333,     0.83333,     0.83333,     0.83333,     0.83333,     0.83333,     0.83333,     0.83333,     0.83333,     0.83333,\n",
              "            0.83333,     0.83333,     0.83333,     0.83333,     0.83333,     0.83333,        0.75,        0.75,        0.75,        0.75,        0.75,        0.75,        0.75,        0.75,        0.75,        0.75,        0.75,        0.75,        0.75,        0.75,        0.75,         0.7,         0.7,\n",
              "                0.7,         0.7,         0.7,         0.7,         0.7,         0.7,         0.7,         0.7,         0.7,         0.7,         0.7,         0.7,         0.7,     0.66667,     0.66667,     0.66667,     0.66667,     0.66667,     0.66667,     0.66667,     0.66667,     0.66667,     0.66667,\n",
              "            0.66667,     0.66667,     0.66667,     0.66667,     0.66667,         0.6,         0.6,         0.6,         0.6,         0.6,         0.6,         0.6,         0.6,         0.6,         0.6,         0.6,         0.6,         0.6,         0.6,         0.6,     0.36364,     0.36364,     0.36364,\n",
              "            0.36364,     0.36364,     0.36364,     0.36364,     0.36364,     0.36364,     0.36364,     0.36364,     0.36364,     0.36364,     0.36364,     0.36364,     0.36364,     0.36364,     0.36364,     0.36364,     0.36364,     0.36364,     0.36364,     0.36364,     0.36364,     0.36364,     0.36364,\n",
              "            0.36364,     0.36364,     0.36364,     0.36364,     0.36364,     0.36364,     0.36364,     0.36364,     0.36364,     0.36364,     0.36364,     0.36364,     0.36364,     0.36364,     0.36364,     0.36364,     0.36364,     0.36364,     0.35135,     0.35135,     0.35135,     0.35135,     0.35135,\n",
              "            0.35135,     0.35135,     0.35135,     0.35135,     0.35135,     0.35135,     0.35135,     0.35135,     0.35135,     0.35135,         0.2,         0.2,         0.2,         0.2,         0.2,         0.2,         0.2,         0.2,         0.2,         0.2,         0.2,         0.2,         0.2,\n",
              "                0.2,         0.2,     0.18182,     0.18182,     0.18182,     0.18182,     0.18182,     0.18182,     0.18182,     0.18182,     0.18182,     0.18182,     0.18182,     0.18182,     0.18182,     0.18182,     0.18182,     0.18182,     0.18182,     0.18182,     0.18182,     0.18182,     0.18182,\n",
              "            0.18182,     0.18182,     0.18182,     0.18182,     0.18182,     0.18182,     0.18182,     0.18182,     0.18182,     0.18182,     0.18182,     0.18182,     0.18182,     0.18182,     0.18182,     0.18182,     0.18182,     0.18182,     0.18182,     0.18182,     0.18182,     0.18182,     0.18182,\n",
              "            0.18182,     0.18182,     0.18182,     0.18182,     0.18182,     0.18182,     0.18182,     0.18182,     0.18182,     0.18182,     0.18182,     0.18182,     0.18182,     0.18182,     0.18182,     0.18182,     0.17273,     0.17273,     0.17273,     0.17273,     0.17273,     0.17273,     0.17273,\n",
              "            0.17273,     0.17273,     0.17273,     0.17273,     0.17273,     0.17273,     0.17273,     0.17273,     0.15672,     0.15672,     0.15672,     0.15672,     0.15672,     0.15672,     0.15672,     0.15672,     0.15672,     0.15672,     0.15672,     0.15672,     0.15672,     0.15672,     0.15672,\n",
              "            0.15672,     0.15672,     0.15672,     0.15672,     0.15672,     0.15672,     0.15672,     0.15672,     0.15672,     0.15672,     0.15672,     0.15672,     0.15672,     0.15672,     0.15672,     0.14667,     0.14667,     0.14667,     0.14667,     0.14667,     0.14667,     0.14667,     0.14667,\n",
              "            0.14667,     0.14667,     0.14667,     0.14667,     0.14667,     0.14667,     0.14667,     0.13529,     0.13529,     0.13529,     0.13529,     0.13529,     0.13529,     0.13529,     0.13529,     0.13529,     0.13529,     0.13529,     0.13529,     0.13529,     0.13529,     0.12632,     0.12632,\n",
              "            0.12632,     0.12632,     0.12632,     0.12632,     0.12632,     0.12632,     0.12632,     0.12632,     0.12632,     0.12632,     0.12632,     0.12632,     0.12632,    0.094697,    0.094697,    0.094697,    0.094697,    0.094697,    0.094697,    0.094697,    0.094697,    0.094697,    0.094697,\n",
              "           0.094697,    0.094697,    0.094697,    0.094697,    0.094697,    0.081571,    0.081571,    0.081571,    0.081571,    0.081571,    0.081571,    0.081571,    0.081571,    0.081571,    0.081571,    0.081571,    0.081571,    0.081571,    0.081571,    0.081571,    0.081571,    0.081571,    0.081571,\n",
              "           0.081571,    0.081571,    0.081571,    0.081571,    0.081571,    0.081571,    0.081571,    0.081571,    0.081571,    0.081571,    0.081571,    0.081571,    0.078652,    0.078652,    0.078652,    0.078652,    0.078652,    0.078652,    0.078652,    0.078652,    0.078652,    0.078652,    0.078652,\n",
              "           0.078652,    0.078652,    0.078652,    0.078652,    0.072864,    0.072864,    0.072864,    0.072864,    0.072864,    0.072864,    0.072864,    0.072864,    0.072864,    0.072864,    0.072864,    0.072864,    0.072864,    0.072864,    0.072864,    0.068807,    0.068807,    0.068807,    0.068807,\n",
              "           0.068807,    0.068807,    0.068807,    0.068807,    0.068807,    0.068807,    0.068807,    0.068807,    0.068807,    0.068807,    0.068807,       0.062,       0.062,       0.062,       0.062,       0.062,       0.062,       0.062,       0.062,       0.062,       0.062,       0.062,       0.062,\n",
              "              0.062,       0.062,       0.062,    0.057143,    0.057143,    0.057143,    0.057143,    0.057143,    0.057143,    0.057143,    0.057143,    0.057143,    0.057143,    0.057143,    0.057143,    0.057143,    0.057143,    0.057143,    0.054878,    0.054878,    0.054878,    0.054878,    0.054878,\n",
              "           0.054878,    0.054878,    0.054878,    0.054878,    0.054878,    0.054878,    0.054878,    0.054878,    0.054878,    0.054878,    0.054878,    0.054878,    0.054878,    0.054878,    0.054878,    0.054878,    0.054878,    0.054878,    0.054878,    0.054878,    0.054878,    0.054878,    0.054878,\n",
              "           0.054878,    0.054878,    0.054878,    0.054878,    0.054878,    0.054878,    0.054878,    0.054878,    0.054878,    0.054878,    0.054878,    0.054878,    0.054878,    0.054878,    0.054878,    0.054878,    0.054878,    0.054878,    0.054878,    0.054878,    0.054878,    0.054878,    0.054878,\n",
              "           0.054878,    0.054878,    0.054878,    0.054878,    0.054878,    0.054878,    0.054878,    0.054878,    0.054173,    0.054173,    0.054173,    0.054173,    0.054173,    0.054173,    0.054173,    0.054173,    0.054173,    0.054173,    0.054173,    0.054173,    0.054173,    0.054173,    0.054173,\n",
              "           0.054054,    0.054054,    0.054054,    0.054054,    0.054054,    0.054054,    0.054054,    0.054054,    0.054054,    0.054054,    0.054054,    0.054054,    0.054054,    0.054054,    0.054054,    0.048628,    0.048628,    0.048628,    0.048628,    0.048628,    0.048628,    0.048628,    0.048628,\n",
              "           0.048628,    0.048628,    0.048628,    0.048628,    0.048628,    0.048628,    0.048628,    0.048135,    0.048135,    0.048135,    0.048135,    0.048135,    0.048135,    0.048135,    0.048135,    0.048135,    0.048135,    0.048135,    0.048135,    0.048135,    0.048135,    0.048135,    0.046485,\n",
              "           0.046485,    0.046485,    0.046485,    0.046485,    0.046485,    0.046485,    0.046485,    0.046485,    0.046485,    0.046485,    0.046485,    0.046485,    0.046485,    0.046485,    0.040643,    0.040643,    0.040643,    0.040643,    0.040643,    0.040643,    0.040643,    0.040643,    0.040643,\n",
              "           0.040643,    0.040643,    0.040643,    0.040643,    0.040643,    0.040643,    0.040643,    0.040643,    0.040643,    0.040643,    0.040643,    0.040643,    0.040643,    0.040643,    0.040643,    0.040643,    0.040643,    0.040643,    0.040643,    0.040643,    0.040643,    0.038529,    0.038529,\n",
              "           0.038529,    0.038529,    0.038529,    0.038529,    0.038529,    0.038529,    0.038529,    0.038529,    0.038529,    0.038529,    0.038529,    0.038529,    0.038529,    0.037344,    0.037344,    0.037344,    0.037344,    0.037344,    0.037344,    0.037344,    0.037344,    0.037344,    0.037344,\n",
              "           0.037344,    0.037344,    0.037344,    0.037344,      0.0368,      0.0368,      0.0368,      0.0368,      0.0368,      0.0368,      0.0368,      0.0368,      0.0368,      0.0368,      0.0368,      0.0368,      0.0368,      0.0368,      0.0368,    0.035796,    0.035796,    0.035796,    0.035796,\n",
              "           0.035796,    0.035796,    0.035796,    0.035796,    0.035796,    0.035796,    0.035796,    0.035796,    0.035796,    0.035796,    0.035796,     0.03299,     0.03299,     0.03299,     0.03299,     0.03299,     0.03299,     0.03299,     0.03299,     0.03299,     0.03299,     0.03299,     0.03299,\n",
              "            0.03299,     0.03299,     0.03299,    0.032131,    0.032131,    0.032131,    0.032131,    0.032131,    0.032131,    0.032131,    0.032131,    0.032131,    0.032131,    0.032131,    0.032131,    0.032131,    0.032131,    0.032131,    0.027042,    0.027042,    0.027042,    0.027042,    0.027042,\n",
              "           0.027042,    0.027042,    0.027042,    0.027042,    0.027042,    0.027042,    0.027042,    0.027042,    0.027042,    0.027042,    0.026814,    0.026814,    0.026814,    0.026814,    0.026814,    0.026814,    0.026814,    0.026814,    0.026814,    0.026814,    0.026814,    0.026814,    0.026814,\n",
              "           0.026814,    0.026814,    0.026549,    0.026549,    0.026549,    0.026549,    0.026549,    0.026549,    0.026549,    0.026549,    0.026549,    0.026549,    0.026549,    0.026549,    0.026549,    0.026549,    0.026549,    0.026549,    0.026549,    0.026549,    0.026549,    0.026549,    0.026549,\n",
              "           0.026549,    0.026549,    0.026549,    0.026549,    0.026549,    0.026549,    0.026549,    0.026549,    0.026549,    0.026549,    0.026549,    0.026549,    0.026549,    0.026549,    0.026549,    0.026549,    0.026549,    0.026549,    0.026549,    0.026549,    0.026549,    0.026549,    0.026549,\n",
              "           0.026549,    0.026392,    0.026392,    0.026392,    0.026392,    0.026392,    0.026392,    0.026392,    0.026392,    0.026392,    0.026392,    0.026392,    0.026392,    0.026392,    0.026392,    0.026392,    0.026242,    0.026242,    0.026242,    0.026242,    0.026242,    0.026242,    0.026242,\n",
              "           0.026242,    0.026242,    0.026242,    0.026242,    0.026242,    0.026242,    0.026242,    0.025277,    0.025277,    0.025277,    0.025277,    0.025277,    0.025277,    0.025277,    0.025277,    0.025277,    0.025277,    0.025277,    0.025277,    0.025277,    0.025277,    0.025277,    0.023444,\n",
              "           0.023444,    0.023444,    0.023444,    0.023444,    0.023444,    0.023444,    0.023444,    0.023444,    0.023444,    0.023444,    0.023444,    0.023444,    0.023444,    0.023444,    0.019305,    0.019161,    0.019017,    0.018873,    0.018729,    0.018585,    0.018441,    0.018297,    0.018153,\n",
              "           0.018009,    0.017865,    0.017721,    0.017577,    0.017432,    0.017288,    0.017144,       0.017,    0.016856,    0.016712,    0.016568,    0.016424,     0.01628,    0.016136,    0.015992,    0.015848,    0.015704,     0.01556,    0.015415,    0.015271,    0.015127,    0.014983,    0.014839,\n",
              "           0.014695,    0.014551,    0.014407,    0.014263,    0.014119,    0.013975,    0.013831,    0.013687,    0.013543,    0.013399,    0.013254,     0.01311,    0.012966,    0.012822,    0.012678,    0.012534,     0.01239,    0.012246,    0.012102,    0.011958,    0.011814,     0.01167,    0.011526,\n",
              "           0.011382,    0.011237,    0.011093,    0.010949,    0.010805,    0.010661,    0.010517,    0.010373,    0.010229,    0.010085,   0.0099408,   0.0097968,   0.0096527,   0.0095086,   0.0093645,   0.0092205,   0.0090764,   0.0089323,   0.0087883,   0.0086442,   0.0085001,   0.0083561,    0.008212,\n",
              "          0.0080679,   0.0079238,   0.0077798,   0.0076357,   0.0074916,   0.0073476,   0.0072035,   0.0070594,   0.0069154,   0.0067713,   0.0066272,   0.0064831,   0.0063391,    0.006195,   0.0060509,   0.0059069,   0.0057628,   0.0056187,   0.0054747,   0.0053306,   0.0051865,   0.0050424,   0.0048984,\n",
              "          0.0047543,   0.0046102,   0.0044662,   0.0043221,    0.004178,    0.004034,   0.0038899,   0.0037458,   0.0036017,   0.0034577,   0.0033136,   0.0031695,   0.0030255,   0.0028814,   0.0027373,   0.0025933,   0.0024492,   0.0023051,    0.002161,    0.002017,   0.0018729,   0.0017288,   0.0015848,\n",
              "          0.0014407,   0.0012966,   0.0011526,   0.0010085,  0.00086442,  0.00072035,  0.00057628,  0.00043221,  0.00028814,  0.00014407,           0]]), 'Recall', 'Precision'], [array([          0,    0.001001,    0.002002,    0.003003,    0.004004,    0.005005,    0.006006,    0.007007,    0.008008,    0.009009,     0.01001,    0.011011,    0.012012,    0.013013,    0.014014,    0.015015,    0.016016,    0.017017,    0.018018,    0.019019,     0.02002,    0.021021,    0.022022,    0.023023,\n",
              "          0.024024,    0.025025,    0.026026,    0.027027,    0.028028,    0.029029,     0.03003,    0.031031,    0.032032,    0.033033,    0.034034,    0.035035,    0.036036,    0.037037,    0.038038,    0.039039,     0.04004,    0.041041,    0.042042,    0.043043,    0.044044,    0.045045,    0.046046,    0.047047,\n",
              "          0.048048,    0.049049,     0.05005,    0.051051,    0.052052,    0.053053,    0.054054,    0.055055,    0.056056,    0.057057,    0.058058,    0.059059,     0.06006,    0.061061,    0.062062,    0.063063,    0.064064,    0.065065,    0.066066,    0.067067,    0.068068,    0.069069,     0.07007,    0.071071,\n",
              "          0.072072,    0.073073,    0.074074,    0.075075,    0.076076,    0.077077,    0.078078,    0.079079,     0.08008,    0.081081,    0.082082,    0.083083,    0.084084,    0.085085,    0.086086,    0.087087,    0.088088,    0.089089,     0.09009,    0.091091,    0.092092,    0.093093,    0.094094,    0.095095,\n",
              "          0.096096,    0.097097,    0.098098,    0.099099,      0.1001,      0.1011,      0.1021,      0.1031,      0.1041,     0.10511,     0.10611,     0.10711,     0.10811,     0.10911,     0.11011,     0.11111,     0.11211,     0.11311,     0.11411,     0.11512,     0.11612,     0.11712,     0.11812,     0.11912,\n",
              "           0.12012,     0.12112,     0.12212,     0.12312,     0.12412,     0.12513,     0.12613,     0.12713,     0.12813,     0.12913,     0.13013,     0.13113,     0.13213,     0.13313,     0.13413,     0.13514,     0.13614,     0.13714,     0.13814,     0.13914,     0.14014,     0.14114,     0.14214,     0.14314,\n",
              "           0.14414,     0.14515,     0.14615,     0.14715,     0.14815,     0.14915,     0.15015,     0.15115,     0.15215,     0.15315,     0.15415,     0.15516,     0.15616,     0.15716,     0.15816,     0.15916,     0.16016,     0.16116,     0.16216,     0.16316,     0.16416,     0.16517,     0.16617,     0.16717,\n",
              "           0.16817,     0.16917,     0.17017,     0.17117,     0.17217,     0.17317,     0.17417,     0.17518,     0.17618,     0.17718,     0.17818,     0.17918,     0.18018,     0.18118,     0.18218,     0.18318,     0.18418,     0.18519,     0.18619,     0.18719,     0.18819,     0.18919,     0.19019,     0.19119,\n",
              "           0.19219,     0.19319,     0.19419,      0.1952,      0.1962,      0.1972,      0.1982,      0.1992,      0.2002,      0.2012,      0.2022,      0.2032,      0.2042,     0.20521,     0.20621,     0.20721,     0.20821,     0.20921,     0.21021,     0.21121,     0.21221,     0.21321,     0.21421,     0.21522,\n",
              "           0.21622,     0.21722,     0.21822,     0.21922,     0.22022,     0.22122,     0.22222,     0.22322,     0.22422,     0.22523,     0.22623,     0.22723,     0.22823,     0.22923,     0.23023,     0.23123,     0.23223,     0.23323,     0.23423,     0.23524,     0.23624,     0.23724,     0.23824,     0.23924,\n",
              "           0.24024,     0.24124,     0.24224,     0.24324,     0.24424,     0.24525,     0.24625,     0.24725,     0.24825,     0.24925,     0.25025,     0.25125,     0.25225,     0.25325,     0.25425,     0.25526,     0.25626,     0.25726,     0.25826,     0.25926,     0.26026,     0.26126,     0.26226,     0.26326,\n",
              "           0.26426,     0.26527,     0.26627,     0.26727,     0.26827,     0.26927,     0.27027,     0.27127,     0.27227,     0.27327,     0.27427,     0.27528,     0.27628,     0.27728,     0.27828,     0.27928,     0.28028,     0.28128,     0.28228,     0.28328,     0.28428,     0.28529,     0.28629,     0.28729,\n",
              "           0.28829,     0.28929,     0.29029,     0.29129,     0.29229,     0.29329,     0.29429,      0.2953,      0.2963,      0.2973,      0.2983,      0.2993,      0.3003,      0.3013,      0.3023,      0.3033,      0.3043,     0.30531,     0.30631,     0.30731,     0.30831,     0.30931,     0.31031,     0.31131,\n",
              "           0.31231,     0.31331,     0.31431,     0.31532,     0.31632,     0.31732,     0.31832,     0.31932,     0.32032,     0.32132,     0.32232,     0.32332,     0.32432,     0.32533,     0.32633,     0.32733,     0.32833,     0.32933,     0.33033,     0.33133,     0.33233,     0.33333,     0.33433,     0.33534,\n",
              "           0.33634,     0.33734,     0.33834,     0.33934,     0.34034,     0.34134,     0.34234,     0.34334,     0.34434,     0.34535,     0.34635,     0.34735,     0.34835,     0.34935,     0.35035,     0.35135,     0.35235,     0.35335,     0.35435,     0.35536,     0.35636,     0.35736,     0.35836,     0.35936,\n",
              "           0.36036,     0.36136,     0.36236,     0.36336,     0.36436,     0.36537,     0.36637,     0.36737,     0.36837,     0.36937,     0.37037,     0.37137,     0.37237,     0.37337,     0.37437,     0.37538,     0.37638,     0.37738,     0.37838,     0.37938,     0.38038,     0.38138,     0.38238,     0.38338,\n",
              "           0.38438,     0.38539,     0.38639,     0.38739,     0.38839,     0.38939,     0.39039,     0.39139,     0.39239,     0.39339,     0.39439,      0.3954,      0.3964,      0.3974,      0.3984,      0.3994,      0.4004,      0.4014,      0.4024,      0.4034,      0.4044,     0.40541,     0.40641,     0.40741,\n",
              "           0.40841,     0.40941,     0.41041,     0.41141,     0.41241,     0.41341,     0.41441,     0.41542,     0.41642,     0.41742,     0.41842,     0.41942,     0.42042,     0.42142,     0.42242,     0.42342,     0.42442,     0.42543,     0.42643,     0.42743,     0.42843,     0.42943,     0.43043,     0.43143,\n",
              "           0.43243,     0.43343,     0.43443,     0.43544,     0.43644,     0.43744,     0.43844,     0.43944,     0.44044,     0.44144,     0.44244,     0.44344,     0.44444,     0.44545,     0.44645,     0.44745,     0.44845,     0.44945,     0.45045,     0.45145,     0.45245,     0.45345,     0.45445,     0.45546,\n",
              "           0.45646,     0.45746,     0.45846,     0.45946,     0.46046,     0.46146,     0.46246,     0.46346,     0.46446,     0.46547,     0.46647,     0.46747,     0.46847,     0.46947,     0.47047,     0.47147,     0.47247,     0.47347,     0.47447,     0.47548,     0.47648,     0.47748,     0.47848,     0.47948,\n",
              "           0.48048,     0.48148,     0.48248,     0.48348,     0.48448,     0.48549,     0.48649,     0.48749,     0.48849,     0.48949,     0.49049,     0.49149,     0.49249,     0.49349,     0.49449,      0.4955,      0.4965,      0.4975,      0.4985,      0.4995,      0.5005,      0.5015,      0.5025,      0.5035,\n",
              "            0.5045,     0.50551,     0.50651,     0.50751,     0.50851,     0.50951,     0.51051,     0.51151,     0.51251,     0.51351,     0.51451,     0.51552,     0.51652,     0.51752,     0.51852,     0.51952,     0.52052,     0.52152,     0.52252,     0.52352,     0.52452,     0.52553,     0.52653,     0.52753,\n",
              "           0.52853,     0.52953,     0.53053,     0.53153,     0.53253,     0.53353,     0.53453,     0.53554,     0.53654,     0.53754,     0.53854,     0.53954,     0.54054,     0.54154,     0.54254,     0.54354,     0.54454,     0.54555,     0.54655,     0.54755,     0.54855,     0.54955,     0.55055,     0.55155,\n",
              "           0.55255,     0.55355,     0.55455,     0.55556,     0.55656,     0.55756,     0.55856,     0.55956,     0.56056,     0.56156,     0.56256,     0.56356,     0.56456,     0.56557,     0.56657,     0.56757,     0.56857,     0.56957,     0.57057,     0.57157,     0.57257,     0.57357,     0.57457,     0.57558,\n",
              "           0.57658,     0.57758,     0.57858,     0.57958,     0.58058,     0.58158,     0.58258,     0.58358,     0.58458,     0.58559,     0.58659,     0.58759,     0.58859,     0.58959,     0.59059,     0.59159,     0.59259,     0.59359,     0.59459,      0.5956,      0.5966,      0.5976,      0.5986,      0.5996,\n",
              "            0.6006,      0.6016,      0.6026,      0.6036,      0.6046,     0.60561,     0.60661,     0.60761,     0.60861,     0.60961,     0.61061,     0.61161,     0.61261,     0.61361,     0.61461,     0.61562,     0.61662,     0.61762,     0.61862,     0.61962,     0.62062,     0.62162,     0.62262,     0.62362,\n",
              "           0.62462,     0.62563,     0.62663,     0.62763,     0.62863,     0.62963,     0.63063,     0.63163,     0.63263,     0.63363,     0.63463,     0.63564,     0.63664,     0.63764,     0.63864,     0.63964,     0.64064,     0.64164,     0.64264,     0.64364,     0.64464,     0.64565,     0.64665,     0.64765,\n",
              "           0.64865,     0.64965,     0.65065,     0.65165,     0.65265,     0.65365,     0.65465,     0.65566,     0.65666,     0.65766,     0.65866,     0.65966,     0.66066,     0.66166,     0.66266,     0.66366,     0.66466,     0.66567,     0.66667,     0.66767,     0.66867,     0.66967,     0.67067,     0.67167,\n",
              "           0.67267,     0.67367,     0.67467,     0.67568,     0.67668,     0.67768,     0.67868,     0.67968,     0.68068,     0.68168,     0.68268,     0.68368,     0.68468,     0.68569,     0.68669,     0.68769,     0.68869,     0.68969,     0.69069,     0.69169,     0.69269,     0.69369,     0.69469,      0.6957,\n",
              "            0.6967,      0.6977,      0.6987,      0.6997,      0.7007,      0.7017,      0.7027,      0.7037,      0.7047,     0.70571,     0.70671,     0.70771,     0.70871,     0.70971,     0.71071,     0.71171,     0.71271,     0.71371,     0.71471,     0.71572,     0.71672,     0.71772,     0.71872,     0.71972,\n",
              "           0.72072,     0.72172,     0.72272,     0.72372,     0.72472,     0.72573,     0.72673,     0.72773,     0.72873,     0.72973,     0.73073,     0.73173,     0.73273,     0.73373,     0.73473,     0.73574,     0.73674,     0.73774,     0.73874,     0.73974,     0.74074,     0.74174,     0.74274,     0.74374,\n",
              "           0.74474,     0.74575,     0.74675,     0.74775,     0.74875,     0.74975,     0.75075,     0.75175,     0.75275,     0.75375,     0.75475,     0.75576,     0.75676,     0.75776,     0.75876,     0.75976,     0.76076,     0.76176,     0.76276,     0.76376,     0.76476,     0.76577,     0.76677,     0.76777,\n",
              "           0.76877,     0.76977,     0.77077,     0.77177,     0.77277,     0.77377,     0.77477,     0.77578,     0.77678,     0.77778,     0.77878,     0.77978,     0.78078,     0.78178,     0.78278,     0.78378,     0.78478,     0.78579,     0.78679,     0.78779,     0.78879,     0.78979,     0.79079,     0.79179,\n",
              "           0.79279,     0.79379,     0.79479,      0.7958,      0.7968,      0.7978,      0.7988,      0.7998,      0.8008,      0.8018,      0.8028,      0.8038,      0.8048,     0.80581,     0.80681,     0.80781,     0.80881,     0.80981,     0.81081,     0.81181,     0.81281,     0.81381,     0.81481,     0.81582,\n",
              "           0.81682,     0.81782,     0.81882,     0.81982,     0.82082,     0.82182,     0.82282,     0.82382,     0.82482,     0.82583,     0.82683,     0.82783,     0.82883,     0.82983,     0.83083,     0.83183,     0.83283,     0.83383,     0.83483,     0.83584,     0.83684,     0.83784,     0.83884,     0.83984,\n",
              "           0.84084,     0.84184,     0.84284,     0.84384,     0.84484,     0.84585,     0.84685,     0.84785,     0.84885,     0.84985,     0.85085,     0.85185,     0.85285,     0.85385,     0.85485,     0.85586,     0.85686,     0.85786,     0.85886,     0.85986,     0.86086,     0.86186,     0.86286,     0.86386,\n",
              "           0.86486,     0.86587,     0.86687,     0.86787,     0.86887,     0.86987,     0.87087,     0.87187,     0.87287,     0.87387,     0.87487,     0.87588,     0.87688,     0.87788,     0.87888,     0.87988,     0.88088,     0.88188,     0.88288,     0.88388,     0.88488,     0.88589,     0.88689,     0.88789,\n",
              "           0.88889,     0.88989,     0.89089,     0.89189,     0.89289,     0.89389,     0.89489,      0.8959,      0.8969,      0.8979,      0.8989,      0.8999,      0.9009,      0.9019,      0.9029,      0.9039,      0.9049,     0.90591,     0.90691,     0.90791,     0.90891,     0.90991,     0.91091,     0.91191,\n",
              "           0.91291,     0.91391,     0.91491,     0.91592,     0.91692,     0.91792,     0.91892,     0.91992,     0.92092,     0.92192,     0.92292,     0.92392,     0.92492,     0.92593,     0.92693,     0.92793,     0.92893,     0.92993,     0.93093,     0.93193,     0.93293,     0.93393,     0.93493,     0.93594,\n",
              "           0.93694,     0.93794,     0.93894,     0.93994,     0.94094,     0.94194,     0.94294,     0.94394,     0.94494,     0.94595,     0.94695,     0.94795,     0.94895,     0.94995,     0.95095,     0.95195,     0.95295,     0.95395,     0.95495,     0.95596,     0.95696,     0.95796,     0.95896,     0.95996,\n",
              "           0.96096,     0.96196,     0.96296,     0.96396,     0.96496,     0.96597,     0.96697,     0.96797,     0.96897,     0.96997,     0.97097,     0.97197,     0.97297,     0.97397,     0.97497,     0.97598,     0.97698,     0.97798,     0.97898,     0.97998,     0.98098,     0.98198,     0.98298,     0.98398,\n",
              "           0.98498,     0.98599,     0.98699,     0.98799,     0.98899,     0.98999,     0.99099,     0.99199,     0.99299,     0.99399,     0.99499,       0.996,       0.997,       0.998,       0.999,           1]), array([[   0.037822,    0.037822,    0.037822,    0.037822,    0.037822,    0.037822,    0.037822,    0.037822,    0.037822,    0.037822,    0.037822,    0.037822,    0.037822,    0.037822,    0.037822,    0.037822,    0.037822,    0.037822,    0.037822,    0.037822,    0.037822,    0.037822,    0.037822,\n",
              "           0.037822,    0.037822,    0.037822,    0.037822,    0.037905,    0.038035,    0.038232,    0.038332,    0.038475,    0.038569,    0.038681,     0.03877,    0.038881,     0.03901,    0.039136,    0.039444,     0.03967,    0.039896,    0.040094,    0.040296,     0.04049,    0.040762,    0.041079,\n",
              "           0.041342,    0.041501,    0.041856,    0.042352,    0.042987,    0.043264,    0.043808,    0.044364,     0.04478,      0.0453,    0.044958,    0.045381,    0.045956,    0.046617,    0.047083,    0.047593,    0.048054,    0.048574,    0.048894,     0.04837,    0.048796,    0.049359,     0.04998,\n",
              "             0.0505,    0.050023,    0.050578,    0.051057,    0.050791,    0.050486,    0.050008,    0.049652,    0.050269,    0.050672,    0.050912,    0.051464,    0.051207,    0.051947,    0.051477,     0.05179,    0.052435,    0.053015,    0.053434,    0.053918,    0.054655,    0.055524,    0.055971,\n",
              "           0.056788,    0.057184,    0.057929,    0.058526,    0.059259,    0.060133,    0.060986,    0.060487,    0.061526,     0.06232,     0.06299,    0.062393,    0.062787,    0.063614,    0.064819,    0.065701,    0.066504,    0.067185,    0.067822,    0.067234,    0.068364,    0.068907,    0.069053,\n",
              "            0.06976,    0.070611,    0.069825,    0.070588,    0.071229,    0.072565,    0.071509,    0.072327,     0.07322,    0.073728,     0.07459,    0.075202,    0.076026,    0.075155,    0.075571,     0.07443,     0.07541,    0.076216,    0.076665,    0.077316,    0.078152,    0.079308,    0.080095,\n",
              "            0.08106,    0.081504,    0.082454,    0.083227,    0.084004,    0.084607,    0.085324,    0.086135,    0.085112,    0.085663,    0.086222,    0.087166,    0.088131,    0.088432,     0.08757,    0.088151,    0.088758,    0.089266,    0.087969,    0.089316,    0.089825,    0.090796,    0.092656,\n",
              "           0.093902,    0.095671,    0.096619,    0.097232,    0.098217,     0.09712,    0.097611,    0.096222,    0.097504,    0.098415,    0.097256,    0.098604,    0.091779,    0.092561,    0.093214,    0.094823,    0.095222,    0.096047,    0.096584,    0.097295,     0.09859,    0.099628,       0.101,\n",
              "            0.10142,     0.09948,     0.10105,     0.10233,     0.10277,     0.10392,      0.1053,     0.10559,     0.10662,     0.10804,     0.10873,     0.10684,     0.10792,     0.10903,     0.10971,     0.11025,     0.11099,     0.11174,     0.11293,     0.11431,     0.11511,     0.11592,     0.11693,\n",
              "            0.11776,     0.11837,     0.11871,     0.11863,     0.11638,     0.11794,     0.11821,     0.11893,     0.11979,     0.12115,     0.12182,     0.12349,     0.12147,      0.1229,     0.12358,     0.12564,     0.12663,     0.12853,     0.12923,      0.1306,     0.13198,      0.1289,     0.12913,\n",
              "            0.13107,     0.13217,      0.1333,     0.13107,      0.1319,     0.12892,     0.13039,     0.13195,      0.1327,     0.13294,     0.13558,     0.13688,     0.13892,     0.14102,     0.14237,     0.14801,     0.14994,     0.14566,     0.14649,     0.14806,     0.14907,     0.14971,     0.15178,\n",
              "            0.15292,     0.15347,     0.15381,     0.15444,     0.15563,     0.15683,     0.15772,     0.15965,     0.16055,     0.16109,     0.16146,     0.16316,     0.16348,     0.16374,     0.16464,     0.16558,     0.16592,     0.16882,     0.17023,     0.17064,     0.17117,     0.17254,     0.17334,\n",
              "            0.17377,     0.17434,     0.17475,     0.17504,     0.17562,     0.17698,     0.17916,     0.18212,     0.18363,     0.18593,      0.1842,      0.1813,      0.1799,     0.18038,     0.18111,      0.1816,     0.18235,     0.18289,     0.18411,     0.18577,     0.18895,     0.19039,     0.19085,\n",
              "            0.19139,     0.19207,     0.19304,     0.19365,     0.19325,     0.18832,     0.18983,     0.19032,     0.19123,     0.19308,     0.19358,     0.19427,     0.19487,     0.19523,     0.19565,     0.19743,     0.19776,     0.19809,     0.20083,     0.20142,     0.20205,     0.20154,     0.19667,\n",
              "            0.19549,     0.19576,     0.19603,     0.19643,     0.19756,     0.20004,     0.20014,     0.20024,     0.20034,     0.20045,     0.20055,     0.20065,     0.20075,     0.20085,     0.20095,     0.20229,     0.20269,     0.20436,     0.20539,     0.20698,     0.20715,     0.20732,     0.20749,\n",
              "            0.20766,     0.20782,     0.20378,     0.20036,     0.20087,     0.20202,      0.2023,     0.20258,     0.20286,     0.19423,      0.1964,     0.19817,     0.19855,     0.19894,     0.19998,     0.20061,     0.20336,     0.20392,     0.20479,     0.20609,     0.20724,      0.2084,     0.21259,\n",
              "            0.21303,     0.21348,     0.21418,     0.21181,     0.20491,     0.20713,     0.20783,     0.21008,     0.21224,     0.21297,     0.21552,     0.20215,     0.19807,     0.19474,     0.18903,     0.18533,     0.18576,     0.18618,     0.18672,     0.18732,     0.18834,     0.18956,     0.19231,\n",
              "            0.19274,     0.19316,     0.19361,     0.19435,     0.19027,     0.18471,     0.18694,     0.18758,     0.18982,     0.19136,      0.1923,     0.19298,     0.19367,     0.19435,     0.19505,     0.19574,     0.19628,     0.19679,     0.19729,     0.19777,     0.19825,     0.19902,     0.20048,\n",
              "            0.19804,     0.19208,     0.19354,     0.19503,     0.19804,     0.19876,     0.19915,     0.19954,     0.19993,     0.20047,     0.20105,     0.20166,     0.20247,     0.20342,     0.20481,     0.20523,     0.20565,     0.20606,     0.20807,     0.20829,     0.20851,     0.20874,     0.20896,\n",
              "            0.20918,      0.2094,     0.20962,     0.21098,     0.21184,     0.21243,     0.21302,     0.21337,     0.21367,     0.21397,     0.21427,     0.21457,     0.21487,     0.21667,     0.21684,     0.21702,     0.21719,     0.21737,     0.21754,     0.21771,     0.21789,     0.21806,     0.21823,\n",
              "            0.21841,     0.21949,     0.22087,     0.22184,     0.22235,     0.22257,     0.22279,     0.22301,     0.22323,     0.22345,     0.22367,     0.22388,      0.2241,     0.22469,     0.22535,     0.22601,     0.22654,     0.22705,     0.22756,     0.22806,     0.23113,     0.23427,     0.23537,\n",
              "            0.23643,     0.23717,     0.23791,     0.23871,     0.23985,     0.24082,     0.24121,      0.2416,     0.24198,     0.24236,     0.24275,     0.24341,     0.24459,     0.24553,     0.24613,     0.24673,     0.24732,     0.24793,     0.24854,     0.24915,     0.24976,      0.2487,     0.24653,\n",
              "            0.24435,     0.24218,        0.24,     0.23782,     0.23564,     0.23346,     0.23395,     0.23511,     0.23563,     0.23604,     0.23644,     0.23683,     0.23723,     0.23762,     0.23823,     0.23885,     0.23945,     0.23948,     0.23341,     0.22734,      0.2042,     0.20493,     0.20564,\n",
              "            0.20671,     0.20338,     0.18977,     0.19081,     0.19161,     0.19197,     0.19232,     0.19267,     0.19302,     0.19337,     0.19358,     0.19366,     0.19373,      0.1938,     0.19387,     0.19394,     0.19402,     0.19409,     0.19416,     0.19423,      0.1943,     0.19437,     0.19445,\n",
              "            0.19452,     0.19459,     0.19466,     0.19473,      0.1948,     0.19487,     0.19494,     0.19501,     0.19508,     0.19515,     0.19522,     0.19529,     0.19536,     0.19543,      0.1955,     0.19556,     0.19563,     0.19571,     0.19579,     0.19587,     0.19595,     0.19603,     0.19611,\n",
              "            0.19619,     0.19627,     0.19635,     0.19643,     0.19651,     0.19659,     0.19667,     0.19675,     0.19683,     0.19691,     0.19698,     0.19706,     0.19714,     0.19722,     0.19729,     0.19737,     0.19745,     0.19753,      0.1976,     0.19768,     0.19776,     0.19873,     0.20051,\n",
              "            0.20166,     0.20248,     0.20296,     0.20343,      0.2039,     0.20436,     0.20504,     0.20585,     0.20664,      0.2094,     0.20992,     0.21043,     0.21093,     0.21143,     0.21185,     0.21213,     0.21241,     0.21269,     0.21296,     0.21324,     0.21351,     0.21377,     0.21403,\n",
              "            0.21429,     0.21451,     0.21472,     0.21493,     0.21514,     0.21534,     0.21555,     0.21575,     0.21595,     0.21615,     0.21635,     0.21655,     0.21674,     0.21699,     0.21732,     0.21765,     0.21797,     0.21829,     0.21861,     0.21892,     0.21923,     0.21855,     0.20355,\n",
              "            0.19909,     0.19764,     0.18978,     0.18188,     0.18019,     0.18115,     0.18067,     0.17624,     0.17179,     0.16733,     0.16286,     0.15837,     0.15872,     0.15957,     0.15949,     0.15837,     0.15724,     0.15612,     0.15499,     0.15386,     0.15274,     0.15161,     0.15048,\n",
              "            0.14935,     0.14822,     0.14708,     0.14595,     0.14482,     0.14368,     0.14254,     0.14141,     0.14027,     0.13913,     0.13799,     0.13684,      0.1357,     0.13535,     0.13576,     0.13615,     0.13652,     0.13686,     0.13039,      0.1198,     0.11065,     0.10819,     0.10573,\n",
              "            0.10327,      0.1008,    0.098322,    0.095842,    0.093356,    0.090866,    0.088371,     0.08587,     0.08197,    0.076394,    0.070797,    0.065177,    0.059532,    0.056139,      0.0544,    0.052661,     0.05092,    0.049178,    0.047435,     0.04569,    0.043943,    0.042195,    0.040445,\n",
              "           0.038693,     0.03694,    0.035184,    0.033425,    0.031665,    0.029902,    0.029003,    0.029037,    0.029068,    0.029097,    0.029124,    0.029149,    0.029172,    0.029194,    0.029214,    0.029233,    0.029252,    0.029269,    0.029285,      0.0293,    0.029314,    0.029328,    0.029341,\n",
              "           0.029354,    0.029365,    0.029377,    0.029387,    0.029398,    0.029408,           0,           0,           0,           0,           0,           0,           0,           0,           0,           0,           0,           0,           0,           0,           0,           0,           0,\n",
              "                  0,           0,           0,           0,           0,           0,           0,           0,           0,           0,           0,           0,           0,           0,           0,           0,           0,           0,           0,           0,           0,           0,           0,\n",
              "                  0,           0,           0,           0,           0,           0,           0,           0,           0,           0,           0,           0,           0,           0,           0,           0,           0,           0,           0,           0,           0,           0,           0,\n",
              "                  0,           0,           0,           0,           0,           0,           0,           0,           0,           0,           0,           0,           0,           0,           0,           0,           0,           0,           0,           0,           0,           0,           0,\n",
              "                  0,           0,           0,           0,           0,           0,           0,           0,           0,           0,           0,           0,           0,           0,           0,           0,           0,           0,           0,           0,           0,           0,           0,\n",
              "                  0,           0,           0,           0,           0,           0,           0,           0,           0,           0,           0,           0,           0,           0,           0,           0,           0,           0,           0,           0,           0,           0,           0,\n",
              "                  0,           0,           0,           0,           0,           0,           0,           0,           0,           0,           0,           0,           0,           0,           0,           0,           0,           0,           0,           0,           0,           0,           0,\n",
              "                  0,           0,           0,           0,           0,           0,           0,           0,           0,           0,           0,           0,           0,           0,           0,           0,           0,           0,           0,           0,           0,           0,           0,\n",
              "                  0,           0,           0,           0,           0,           0,           0,           0,           0,           0,           0,           0,           0,           0,           0,           0,           0,           0,           0,           0,           0,           0,           0,\n",
              "                  0,           0,           0,           0,           0,           0,           0,           0,           0,           0,           0,           0,           0,           0,           0,           0,           0,           0,           0,           0,           0,           0,           0,\n",
              "                  0,           0,           0,           0,           0,           0,           0,           0,           0,           0,           0,           0,           0,           0,           0,           0,           0,           0,           0,           0,           0,           0,           0,\n",
              "                  0,           0,           0,           0,           0,           0,           0,           0,           0,           0,           0]]), 'Confidence', 'F1'], [array([          0,    0.001001,    0.002002,    0.003003,    0.004004,    0.005005,    0.006006,    0.007007,    0.008008,    0.009009,     0.01001,    0.011011,    0.012012,    0.013013,    0.014014,    0.015015,    0.016016,    0.017017,    0.018018,    0.019019,     0.02002,    0.021021,    0.022022,    0.023023,\n",
              "          0.024024,    0.025025,    0.026026,    0.027027,    0.028028,    0.029029,     0.03003,    0.031031,    0.032032,    0.033033,    0.034034,    0.035035,    0.036036,    0.037037,    0.038038,    0.039039,     0.04004,    0.041041,    0.042042,    0.043043,    0.044044,    0.045045,    0.046046,    0.047047,\n",
              "          0.048048,    0.049049,     0.05005,    0.051051,    0.052052,    0.053053,    0.054054,    0.055055,    0.056056,    0.057057,    0.058058,    0.059059,     0.06006,    0.061061,    0.062062,    0.063063,    0.064064,    0.065065,    0.066066,    0.067067,    0.068068,    0.069069,     0.07007,    0.071071,\n",
              "          0.072072,    0.073073,    0.074074,    0.075075,    0.076076,    0.077077,    0.078078,    0.079079,     0.08008,    0.081081,    0.082082,    0.083083,    0.084084,    0.085085,    0.086086,    0.087087,    0.088088,    0.089089,     0.09009,    0.091091,    0.092092,    0.093093,    0.094094,    0.095095,\n",
              "          0.096096,    0.097097,    0.098098,    0.099099,      0.1001,      0.1011,      0.1021,      0.1031,      0.1041,     0.10511,     0.10611,     0.10711,     0.10811,     0.10911,     0.11011,     0.11111,     0.11211,     0.11311,     0.11411,     0.11512,     0.11612,     0.11712,     0.11812,     0.11912,\n",
              "           0.12012,     0.12112,     0.12212,     0.12312,     0.12412,     0.12513,     0.12613,     0.12713,     0.12813,     0.12913,     0.13013,     0.13113,     0.13213,     0.13313,     0.13413,     0.13514,     0.13614,     0.13714,     0.13814,     0.13914,     0.14014,     0.14114,     0.14214,     0.14314,\n",
              "           0.14414,     0.14515,     0.14615,     0.14715,     0.14815,     0.14915,     0.15015,     0.15115,     0.15215,     0.15315,     0.15415,     0.15516,     0.15616,     0.15716,     0.15816,     0.15916,     0.16016,     0.16116,     0.16216,     0.16316,     0.16416,     0.16517,     0.16617,     0.16717,\n",
              "           0.16817,     0.16917,     0.17017,     0.17117,     0.17217,     0.17317,     0.17417,     0.17518,     0.17618,     0.17718,     0.17818,     0.17918,     0.18018,     0.18118,     0.18218,     0.18318,     0.18418,     0.18519,     0.18619,     0.18719,     0.18819,     0.18919,     0.19019,     0.19119,\n",
              "           0.19219,     0.19319,     0.19419,      0.1952,      0.1962,      0.1972,      0.1982,      0.1992,      0.2002,      0.2012,      0.2022,      0.2032,      0.2042,     0.20521,     0.20621,     0.20721,     0.20821,     0.20921,     0.21021,     0.21121,     0.21221,     0.21321,     0.21421,     0.21522,\n",
              "           0.21622,     0.21722,     0.21822,     0.21922,     0.22022,     0.22122,     0.22222,     0.22322,     0.22422,     0.22523,     0.22623,     0.22723,     0.22823,     0.22923,     0.23023,     0.23123,     0.23223,     0.23323,     0.23423,     0.23524,     0.23624,     0.23724,     0.23824,     0.23924,\n",
              "           0.24024,     0.24124,     0.24224,     0.24324,     0.24424,     0.24525,     0.24625,     0.24725,     0.24825,     0.24925,     0.25025,     0.25125,     0.25225,     0.25325,     0.25425,     0.25526,     0.25626,     0.25726,     0.25826,     0.25926,     0.26026,     0.26126,     0.26226,     0.26326,\n",
              "           0.26426,     0.26527,     0.26627,     0.26727,     0.26827,     0.26927,     0.27027,     0.27127,     0.27227,     0.27327,     0.27427,     0.27528,     0.27628,     0.27728,     0.27828,     0.27928,     0.28028,     0.28128,     0.28228,     0.28328,     0.28428,     0.28529,     0.28629,     0.28729,\n",
              "           0.28829,     0.28929,     0.29029,     0.29129,     0.29229,     0.29329,     0.29429,      0.2953,      0.2963,      0.2973,      0.2983,      0.2993,      0.3003,      0.3013,      0.3023,      0.3033,      0.3043,     0.30531,     0.30631,     0.30731,     0.30831,     0.30931,     0.31031,     0.31131,\n",
              "           0.31231,     0.31331,     0.31431,     0.31532,     0.31632,     0.31732,     0.31832,     0.31932,     0.32032,     0.32132,     0.32232,     0.32332,     0.32432,     0.32533,     0.32633,     0.32733,     0.32833,     0.32933,     0.33033,     0.33133,     0.33233,     0.33333,     0.33433,     0.33534,\n",
              "           0.33634,     0.33734,     0.33834,     0.33934,     0.34034,     0.34134,     0.34234,     0.34334,     0.34434,     0.34535,     0.34635,     0.34735,     0.34835,     0.34935,     0.35035,     0.35135,     0.35235,     0.35335,     0.35435,     0.35536,     0.35636,     0.35736,     0.35836,     0.35936,\n",
              "           0.36036,     0.36136,     0.36236,     0.36336,     0.36436,     0.36537,     0.36637,     0.36737,     0.36837,     0.36937,     0.37037,     0.37137,     0.37237,     0.37337,     0.37437,     0.37538,     0.37638,     0.37738,     0.37838,     0.37938,     0.38038,     0.38138,     0.38238,     0.38338,\n",
              "           0.38438,     0.38539,     0.38639,     0.38739,     0.38839,     0.38939,     0.39039,     0.39139,     0.39239,     0.39339,     0.39439,      0.3954,      0.3964,      0.3974,      0.3984,      0.3994,      0.4004,      0.4014,      0.4024,      0.4034,      0.4044,     0.40541,     0.40641,     0.40741,\n",
              "           0.40841,     0.40941,     0.41041,     0.41141,     0.41241,     0.41341,     0.41441,     0.41542,     0.41642,     0.41742,     0.41842,     0.41942,     0.42042,     0.42142,     0.42242,     0.42342,     0.42442,     0.42543,     0.42643,     0.42743,     0.42843,     0.42943,     0.43043,     0.43143,\n",
              "           0.43243,     0.43343,     0.43443,     0.43544,     0.43644,     0.43744,     0.43844,     0.43944,     0.44044,     0.44144,     0.44244,     0.44344,     0.44444,     0.44545,     0.44645,     0.44745,     0.44845,     0.44945,     0.45045,     0.45145,     0.45245,     0.45345,     0.45445,     0.45546,\n",
              "           0.45646,     0.45746,     0.45846,     0.45946,     0.46046,     0.46146,     0.46246,     0.46346,     0.46446,     0.46547,     0.46647,     0.46747,     0.46847,     0.46947,     0.47047,     0.47147,     0.47247,     0.47347,     0.47447,     0.47548,     0.47648,     0.47748,     0.47848,     0.47948,\n",
              "           0.48048,     0.48148,     0.48248,     0.48348,     0.48448,     0.48549,     0.48649,     0.48749,     0.48849,     0.48949,     0.49049,     0.49149,     0.49249,     0.49349,     0.49449,      0.4955,      0.4965,      0.4975,      0.4985,      0.4995,      0.5005,      0.5015,      0.5025,      0.5035,\n",
              "            0.5045,     0.50551,     0.50651,     0.50751,     0.50851,     0.50951,     0.51051,     0.51151,     0.51251,     0.51351,     0.51451,     0.51552,     0.51652,     0.51752,     0.51852,     0.51952,     0.52052,     0.52152,     0.52252,     0.52352,     0.52452,     0.52553,     0.52653,     0.52753,\n",
              "           0.52853,     0.52953,     0.53053,     0.53153,     0.53253,     0.53353,     0.53453,     0.53554,     0.53654,     0.53754,     0.53854,     0.53954,     0.54054,     0.54154,     0.54254,     0.54354,     0.54454,     0.54555,     0.54655,     0.54755,     0.54855,     0.54955,     0.55055,     0.55155,\n",
              "           0.55255,     0.55355,     0.55455,     0.55556,     0.55656,     0.55756,     0.55856,     0.55956,     0.56056,     0.56156,     0.56256,     0.56356,     0.56456,     0.56557,     0.56657,     0.56757,     0.56857,     0.56957,     0.57057,     0.57157,     0.57257,     0.57357,     0.57457,     0.57558,\n",
              "           0.57658,     0.57758,     0.57858,     0.57958,     0.58058,     0.58158,     0.58258,     0.58358,     0.58458,     0.58559,     0.58659,     0.58759,     0.58859,     0.58959,     0.59059,     0.59159,     0.59259,     0.59359,     0.59459,      0.5956,      0.5966,      0.5976,      0.5986,      0.5996,\n",
              "            0.6006,      0.6016,      0.6026,      0.6036,      0.6046,     0.60561,     0.60661,     0.60761,     0.60861,     0.60961,     0.61061,     0.61161,     0.61261,     0.61361,     0.61461,     0.61562,     0.61662,     0.61762,     0.61862,     0.61962,     0.62062,     0.62162,     0.62262,     0.62362,\n",
              "           0.62462,     0.62563,     0.62663,     0.62763,     0.62863,     0.62963,     0.63063,     0.63163,     0.63263,     0.63363,     0.63463,     0.63564,     0.63664,     0.63764,     0.63864,     0.63964,     0.64064,     0.64164,     0.64264,     0.64364,     0.64464,     0.64565,     0.64665,     0.64765,\n",
              "           0.64865,     0.64965,     0.65065,     0.65165,     0.65265,     0.65365,     0.65465,     0.65566,     0.65666,     0.65766,     0.65866,     0.65966,     0.66066,     0.66166,     0.66266,     0.66366,     0.66466,     0.66567,     0.66667,     0.66767,     0.66867,     0.66967,     0.67067,     0.67167,\n",
              "           0.67267,     0.67367,     0.67467,     0.67568,     0.67668,     0.67768,     0.67868,     0.67968,     0.68068,     0.68168,     0.68268,     0.68368,     0.68468,     0.68569,     0.68669,     0.68769,     0.68869,     0.68969,     0.69069,     0.69169,     0.69269,     0.69369,     0.69469,      0.6957,\n",
              "            0.6967,      0.6977,      0.6987,      0.6997,      0.7007,      0.7017,      0.7027,      0.7037,      0.7047,     0.70571,     0.70671,     0.70771,     0.70871,     0.70971,     0.71071,     0.71171,     0.71271,     0.71371,     0.71471,     0.71572,     0.71672,     0.71772,     0.71872,     0.71972,\n",
              "           0.72072,     0.72172,     0.72272,     0.72372,     0.72472,     0.72573,     0.72673,     0.72773,     0.72873,     0.72973,     0.73073,     0.73173,     0.73273,     0.73373,     0.73473,     0.73574,     0.73674,     0.73774,     0.73874,     0.73974,     0.74074,     0.74174,     0.74274,     0.74374,\n",
              "           0.74474,     0.74575,     0.74675,     0.74775,     0.74875,     0.74975,     0.75075,     0.75175,     0.75275,     0.75375,     0.75475,     0.75576,     0.75676,     0.75776,     0.75876,     0.75976,     0.76076,     0.76176,     0.76276,     0.76376,     0.76476,     0.76577,     0.76677,     0.76777,\n",
              "           0.76877,     0.76977,     0.77077,     0.77177,     0.77277,     0.77377,     0.77477,     0.77578,     0.77678,     0.77778,     0.77878,     0.77978,     0.78078,     0.78178,     0.78278,     0.78378,     0.78478,     0.78579,     0.78679,     0.78779,     0.78879,     0.78979,     0.79079,     0.79179,\n",
              "           0.79279,     0.79379,     0.79479,      0.7958,      0.7968,      0.7978,      0.7988,      0.7998,      0.8008,      0.8018,      0.8028,      0.8038,      0.8048,     0.80581,     0.80681,     0.80781,     0.80881,     0.80981,     0.81081,     0.81181,     0.81281,     0.81381,     0.81481,     0.81582,\n",
              "           0.81682,     0.81782,     0.81882,     0.81982,     0.82082,     0.82182,     0.82282,     0.82382,     0.82482,     0.82583,     0.82683,     0.82783,     0.82883,     0.82983,     0.83083,     0.83183,     0.83283,     0.83383,     0.83483,     0.83584,     0.83684,     0.83784,     0.83884,     0.83984,\n",
              "           0.84084,     0.84184,     0.84284,     0.84384,     0.84484,     0.84585,     0.84685,     0.84785,     0.84885,     0.84985,     0.85085,     0.85185,     0.85285,     0.85385,     0.85485,     0.85586,     0.85686,     0.85786,     0.85886,     0.85986,     0.86086,     0.86186,     0.86286,     0.86386,\n",
              "           0.86486,     0.86587,     0.86687,     0.86787,     0.86887,     0.86987,     0.87087,     0.87187,     0.87287,     0.87387,     0.87487,     0.87588,     0.87688,     0.87788,     0.87888,     0.87988,     0.88088,     0.88188,     0.88288,     0.88388,     0.88488,     0.88589,     0.88689,     0.88789,\n",
              "           0.88889,     0.88989,     0.89089,     0.89189,     0.89289,     0.89389,     0.89489,      0.8959,      0.8969,      0.8979,      0.8989,      0.8999,      0.9009,      0.9019,      0.9029,      0.9039,      0.9049,     0.90591,     0.90691,     0.90791,     0.90891,     0.90991,     0.91091,     0.91191,\n",
              "           0.91291,     0.91391,     0.91491,     0.91592,     0.91692,     0.91792,     0.91892,     0.91992,     0.92092,     0.92192,     0.92292,     0.92392,     0.92492,     0.92593,     0.92693,     0.92793,     0.92893,     0.92993,     0.93093,     0.93193,     0.93293,     0.93393,     0.93493,     0.93594,\n",
              "           0.93694,     0.93794,     0.93894,     0.93994,     0.94094,     0.94194,     0.94294,     0.94394,     0.94494,     0.94595,     0.94695,     0.94795,     0.94895,     0.94995,     0.95095,     0.95195,     0.95295,     0.95395,     0.95495,     0.95596,     0.95696,     0.95796,     0.95896,     0.95996,\n",
              "           0.96096,     0.96196,     0.96296,     0.96396,     0.96496,     0.96597,     0.96697,     0.96797,     0.96897,     0.96997,     0.97097,     0.97197,     0.97297,     0.97397,     0.97497,     0.97598,     0.97698,     0.97798,     0.97898,     0.97998,     0.98098,     0.98198,     0.98298,     0.98398,\n",
              "           0.98498,     0.98599,     0.98699,     0.98799,     0.98899,     0.98999,     0.99099,     0.99199,     0.99299,     0.99399,     0.99499,       0.996,       0.997,       0.998,       0.999,           1]), array([[   0.019333,    0.019333,    0.019333,    0.019333,    0.019333,    0.019333,    0.019333,    0.019333,    0.019333,    0.019333,    0.019333,    0.019333,    0.019333,    0.019333,    0.019333,    0.019333,    0.019333,    0.019333,    0.019333,    0.019333,    0.019333,    0.019333,    0.019333,\n",
              "           0.019333,    0.019333,    0.019333,    0.019333,    0.019377,    0.019444,    0.019547,      0.0196,    0.019675,    0.019724,    0.019782,    0.019829,    0.019887,    0.019954,     0.02002,    0.020182,      0.0203,    0.020418,    0.020522,    0.020628,     0.02073,    0.020872,    0.021039,\n",
              "           0.021177,     0.02126,    0.021446,    0.021707,    0.022041,    0.022187,    0.022473,    0.022765,    0.022985,    0.023259,    0.023089,    0.023312,    0.023616,    0.023965,    0.024212,    0.024482,    0.024725,    0.025001,     0.02517,    0.024906,    0.025131,     0.02543,     0.02576,\n",
              "           0.026036,    0.025798,    0.026093,    0.026348,    0.026222,    0.026075,    0.025836,    0.025663,    0.025993,    0.026208,    0.026337,    0.026632,    0.026513,     0.02691,    0.026678,    0.026845,    0.027192,    0.027505,     0.02773,    0.027991,    0.028388,    0.028858,    0.029099,\n",
              "           0.029541,    0.029756,    0.030159,    0.030482,    0.030881,    0.031356,     0.03182,    0.031576,    0.032143,    0.032577,    0.032943,    0.032648,    0.032864,    0.033318,     0.03398,    0.034465,    0.034907,    0.035282,    0.035633,    0.035348,    0.035973,    0.036274,    0.036398,\n",
              "           0.036791,    0.037264,    0.036873,    0.037298,    0.037657,    0.038404,    0.037864,    0.038323,    0.038825,     0.03911,    0.039596,    0.039941,    0.040406,    0.039974,    0.040209,    0.039625,    0.040181,    0.040639,    0.040894,    0.041265,    0.041741,    0.042402,    0.042852,\n",
              "           0.043405,    0.043659,    0.044205,     0.04465,    0.045097,    0.045445,    0.045859,    0.046328,    0.045822,    0.046142,    0.046466,    0.047015,    0.047577,    0.047782,    0.047347,    0.047686,    0.048042,     0.04834,    0.047682,    0.048475,    0.048775,    0.049348,    0.050449,\n",
              "           0.051189,    0.052241,    0.052808,    0.053174,    0.053764,    0.053242,    0.053537,    0.052842,    0.053617,    0.054169,    0.053619,     0.05444,    0.050722,    0.051247,    0.051647,    0.052637,    0.052883,    0.053392,    0.053724,    0.054165,    0.054968,    0.055614,     0.05647,\n",
              "           0.056734,    0.055731,    0.056719,    0.057523,    0.057806,    0.058531,    0.059411,    0.059598,    0.060251,    0.061159,    0.061602,    0.060656,    0.061356,    0.062072,    0.062517,    0.062863,    0.063346,    0.063836,    0.064612,    0.065521,    0.066046,    0.066579,    0.067246,\n",
              "           0.067795,    0.068198,    0.068426,    0.068436,    0.067231,    0.068274,    0.068455,    0.068934,    0.069513,    0.070431,    0.070885,    0.072019,    0.070979,    0.072043,    0.072511,    0.073935,    0.074622,    0.075944,    0.076435,    0.077393,    0.078363,    0.076717,     0.07688,\n",
              "           0.078263,    0.079051,     0.07986,    0.078854,    0.079455,    0.077924,    0.078999,    0.080147,    0.080703,    0.080881,    0.082839,    0.083811,    0.085346,    0.086939,    0.087969,    0.092311,    0.093824,    0.091413,    0.092071,    0.093316,    0.094121,    0.094628,    0.096286,\n",
              "           0.097209,    0.097656,    0.097928,    0.098445,     0.09941,     0.10039,     0.10112,     0.10271,     0.10346,     0.10391,     0.10422,     0.10564,     0.10591,     0.10612,     0.10688,     0.10768,     0.10796,     0.11043,     0.11164,       0.112,     0.11246,     0.11364,     0.11433,\n",
              "            0.11471,     0.11521,     0.11556,     0.11581,     0.11632,     0.11752,     0.11945,      0.1221,     0.12346,     0.12555,     0.12464,     0.12274,     0.12189,     0.12233,       0.123,     0.12345,     0.12415,     0.12465,     0.12578,     0.12734,     0.13034,     0.13172,     0.13217,\n",
              "            0.13268,     0.13334,     0.13428,     0.13487,     0.13473,     0.13202,     0.13351,     0.13399,      0.1349,     0.13675,     0.13725,     0.13794,     0.13855,     0.13891,     0.13934,     0.14114,     0.14148,     0.14182,     0.14465,     0.14526,     0.14592,     0.14582,     0.14247,\n",
              "            0.14205,     0.14233,     0.14261,     0.14303,     0.14424,      0.1469,     0.14701,     0.14712,     0.14723,     0.14733,     0.14744,     0.14755,     0.14766,     0.14777,     0.14788,     0.14933,     0.14977,     0.15161,     0.15274,     0.15451,      0.1547,     0.15488,     0.15507,\n",
              "            0.15526,     0.15545,     0.15305,     0.15078,     0.15136,     0.15267,       0.153,     0.15332,     0.15364,      0.1477,     0.15021,     0.15229,     0.15275,     0.15321,     0.15445,      0.1552,     0.15852,      0.1592,     0.16027,     0.16186,     0.16328,     0.16473,     0.17002,\n",
              "            0.17059,     0.17116,     0.17207,     0.17057,     0.16561,     0.16853,     0.16946,     0.17247,      0.1754,     0.17641,     0.17993,     0.17042,     0.16724,     0.16542,     0.16092,      0.1581,     0.15873,     0.15935,     0.16014,     0.16102,     0.16253,     0.16436,     0.16855,\n",
              "             0.1692,     0.16985,     0.17055,      0.1717,     0.16871,     0.16551,     0.16912,     0.17018,     0.17389,     0.17651,     0.17811,     0.17927,     0.18046,     0.18166,     0.18288,      0.1841,     0.18505,     0.18596,     0.18686,     0.18773,     0.18859,     0.18999,     0.19267,\n",
              "            0.19443,     0.19017,     0.19306,     0.19604,     0.20222,     0.20372,     0.20454,     0.20537,      0.2062,     0.20736,      0.2086,     0.20991,     0.21167,     0.21377,     0.21686,      0.2178,     0.21874,     0.21968,      0.2243,     0.22482,     0.22534,     0.22586,     0.22638,\n",
              "             0.2269,     0.22742,     0.22794,     0.23117,     0.23325,     0.23469,     0.23613,     0.23699,     0.23774,     0.23849,     0.23924,     0.23998,     0.24073,     0.24529,     0.24574,     0.24619,     0.24664,     0.24709,     0.24754,     0.24799,     0.24844,     0.24889,     0.24934,\n",
              "            0.24979,     0.25263,     0.25633,     0.25895,     0.26036,     0.26096,     0.26157,     0.26217,     0.26278,     0.26338,     0.26399,     0.26459,      0.2652,     0.26685,     0.26874,     0.27062,     0.27215,     0.27362,      0.2751,     0.27658,     0.28579,     0.29558,      0.2991,\n",
              "            0.30253,     0.30499,     0.30745,     0.31014,     0.31401,     0.31735,     0.31871,     0.32006,     0.32142,     0.32277,     0.32412,     0.32651,     0.33078,     0.33424,     0.33649,     0.33873,     0.34098,     0.34329,     0.34566,     0.34803,      0.3504,     0.34997,     0.34766,\n",
              "            0.34535,     0.34305,     0.34074,     0.33843,     0.33612,     0.33381,      0.3372,     0.34208,     0.34431,     0.34603,     0.34775,     0.34948,      0.3512,     0.35292,     0.35565,     0.35839,     0.36113,     0.36305,     0.35626,     0.34946,     0.32317,     0.32684,     0.33051,\n",
              "            0.33607,     0.33867,     0.32314,     0.32925,     0.33406,     0.33625,     0.33844,     0.34063,     0.34282,     0.34501,     0.34638,     0.34684,     0.34731,     0.34777,     0.34824,      0.3487,     0.34917,     0.34963,      0.3501,     0.35056,     0.35103,     0.35149,     0.35196,\n",
              "            0.35242,     0.35289,     0.35336,     0.35382,     0.35429,     0.35475,     0.35522,     0.35568,     0.35615,     0.35661,     0.35708,     0.35754,     0.35801,     0.35847,     0.35894,      0.3594,     0.35987,      0.3604,     0.36095,     0.36149,     0.36204,     0.36259,     0.36314,\n",
              "            0.36369,     0.36424,     0.36479,     0.36534,     0.36589,     0.36644,     0.36699,     0.36753,     0.36808,     0.36863,     0.36918,     0.36973,     0.37028,     0.37083,     0.37138,     0.37193,     0.37248,     0.37303,     0.37357,     0.37412,     0.37467,     0.38176,     0.39522,\n",
              "            0.40433,       0.411,     0.41499,     0.41899,     0.42298,     0.42697,     0.43297,     0.44029,     0.44761,     0.47469,     0.48008,     0.48547,     0.49087,     0.49626,     0.50098,     0.50415,     0.50732,      0.5105,     0.51367,     0.51684,     0.52002,     0.52319,     0.52636,\n",
              "            0.52951,     0.53212,     0.53473,     0.53734,     0.53995,     0.54256,     0.54517,     0.54778,     0.55039,       0.553,      0.5556,     0.55821,     0.56082,     0.56411,     0.56864,     0.57316,     0.57768,      0.5822,     0.58672,     0.59125,     0.59577,     0.59874,     0.57922,\n",
              "            0.59851,     0.66019,     0.64984,     0.63948,     0.65459,     0.68069,     0.69839,     0.69217,     0.68596,     0.67975,     0.67354,     0.66732,     0.69721,     0.73138,     0.74926,     0.74763,     0.74601,     0.74438,     0.74275,     0.74112,      0.7395,     0.73787,     0.73624,\n",
              "            0.73462,     0.73299,     0.73136,     0.72974,     0.72811,     0.72648,     0.72485,     0.72323,      0.7216,     0.71997,     0.71835,     0.71672,     0.71509,      0.7266,       0.751,     0.77541,     0.79981,     0.82422,     0.82477,      0.8111,     0.79913,     0.79447,     0.78981,\n",
              "            0.78515,     0.78049,     0.77583,     0.77117,     0.76651,     0.76185,     0.75719,     0.75253,     0.74221,     0.72513,     0.70804,     0.69096,     0.67387,     0.66068,     0.65033,     0.63997,     0.62962,     0.61927,     0.60891,     0.59856,      0.5882,     0.57785,      0.5675,\n",
              "            0.55714,     0.54679,     0.53644,     0.52608,     0.51573,     0.50537,     0.51049,      0.5323,     0.55411,     0.57592,     0.59773,     0.61953,     0.64134,     0.66315,     0.68496,     0.70677,     0.72858,     0.75039,      0.7722,     0.79401,     0.81582,     0.83762,     0.85943,\n",
              "            0.88124,     0.90305,     0.92486,     0.94667,     0.96848,     0.99029,           1,           1,           1,           1,           1,           1,           1,           1,           1,           1,           1,           1,           1,           1,           1,           1,           1,\n",
              "                  1,           1,           1,           1,           1,           1,           1,           1,           1,           1,           1,           1,           1,           1,           1,           1,           1,           1,           1,           1,           1,           1,           1,\n",
              "                  1,           1,           1,           1,           1,           1,           1,           1,           1,           1,           1,           1,           1,           1,           1,           1,           1,           1,           1,           1,           1,           1,           1,\n",
              "                  1,           1,           1,           1,           1,           1,           1,           1,           1,           1,           1,           1,           1,           1,           1,           1,           1,           1,           1,           1,           1,           1,           1,\n",
              "                  1,           1,           1,           1,           1,           1,           1,           1,           1,           1,           1,           1,           1,           1,           1,           1,           1,           1,           1,           1,           1,           1,           1,\n",
              "                  1,           1,           1,           1,           1,           1,           1,           1,           1,           1,           1,           1,           1,           1,           1,           1,           1,           1,           1,           1,           1,           1,           1,\n",
              "                  1,           1,           1,           1,           1,           1,           1,           1,           1,           1,           1,           1,           1,           1,           1,           1,           1,           1,           1,           1,           1,           1,           1,\n",
              "                  1,           1,           1,           1,           1,           1,           1,           1,           1,           1,           1,           1,           1,           1,           1,           1,           1,           1,           1,           1,           1,           1,           1,\n",
              "                  1,           1,           1,           1,           1,           1,           1,           1,           1,           1,           1,           1,           1,           1,           1,           1,           1,           1,           1,           1,           1,           1,           1,\n",
              "                  1,           1,           1,           1,           1,           1,           1,           1,           1,           1,           1,           1,           1,           1,           1,           1,           1,           1,           1,           1,           1,           1,           1,\n",
              "                  1,           1,           1,           1,           1,           1,           1,           1,           1,           1,           1,           1,           1,           1,           1,           1,           1,           1,           1,           1,           1,           1,           1,\n",
              "                  1,           1,           1,           1,           1,           1,           1,           1,           1,           1,           1]]), 'Confidence', 'Precision'], [array([          0,    0.001001,    0.002002,    0.003003,    0.004004,    0.005005,    0.006006,    0.007007,    0.008008,    0.009009,     0.01001,    0.011011,    0.012012,    0.013013,    0.014014,    0.015015,    0.016016,    0.017017,    0.018018,    0.019019,     0.02002,    0.021021,    0.022022,    0.023023,\n",
              "          0.024024,    0.025025,    0.026026,    0.027027,    0.028028,    0.029029,     0.03003,    0.031031,    0.032032,    0.033033,    0.034034,    0.035035,    0.036036,    0.037037,    0.038038,    0.039039,     0.04004,    0.041041,    0.042042,    0.043043,    0.044044,    0.045045,    0.046046,    0.047047,\n",
              "          0.048048,    0.049049,     0.05005,    0.051051,    0.052052,    0.053053,    0.054054,    0.055055,    0.056056,    0.057057,    0.058058,    0.059059,     0.06006,    0.061061,    0.062062,    0.063063,    0.064064,    0.065065,    0.066066,    0.067067,    0.068068,    0.069069,     0.07007,    0.071071,\n",
              "          0.072072,    0.073073,    0.074074,    0.075075,    0.076076,    0.077077,    0.078078,    0.079079,     0.08008,    0.081081,    0.082082,    0.083083,    0.084084,    0.085085,    0.086086,    0.087087,    0.088088,    0.089089,     0.09009,    0.091091,    0.092092,    0.093093,    0.094094,    0.095095,\n",
              "          0.096096,    0.097097,    0.098098,    0.099099,      0.1001,      0.1011,      0.1021,      0.1031,      0.1041,     0.10511,     0.10611,     0.10711,     0.10811,     0.10911,     0.11011,     0.11111,     0.11211,     0.11311,     0.11411,     0.11512,     0.11612,     0.11712,     0.11812,     0.11912,\n",
              "           0.12012,     0.12112,     0.12212,     0.12312,     0.12412,     0.12513,     0.12613,     0.12713,     0.12813,     0.12913,     0.13013,     0.13113,     0.13213,     0.13313,     0.13413,     0.13514,     0.13614,     0.13714,     0.13814,     0.13914,     0.14014,     0.14114,     0.14214,     0.14314,\n",
              "           0.14414,     0.14515,     0.14615,     0.14715,     0.14815,     0.14915,     0.15015,     0.15115,     0.15215,     0.15315,     0.15415,     0.15516,     0.15616,     0.15716,     0.15816,     0.15916,     0.16016,     0.16116,     0.16216,     0.16316,     0.16416,     0.16517,     0.16617,     0.16717,\n",
              "           0.16817,     0.16917,     0.17017,     0.17117,     0.17217,     0.17317,     0.17417,     0.17518,     0.17618,     0.17718,     0.17818,     0.17918,     0.18018,     0.18118,     0.18218,     0.18318,     0.18418,     0.18519,     0.18619,     0.18719,     0.18819,     0.18919,     0.19019,     0.19119,\n",
              "           0.19219,     0.19319,     0.19419,      0.1952,      0.1962,      0.1972,      0.1982,      0.1992,      0.2002,      0.2012,      0.2022,      0.2032,      0.2042,     0.20521,     0.20621,     0.20721,     0.20821,     0.20921,     0.21021,     0.21121,     0.21221,     0.21321,     0.21421,     0.21522,\n",
              "           0.21622,     0.21722,     0.21822,     0.21922,     0.22022,     0.22122,     0.22222,     0.22322,     0.22422,     0.22523,     0.22623,     0.22723,     0.22823,     0.22923,     0.23023,     0.23123,     0.23223,     0.23323,     0.23423,     0.23524,     0.23624,     0.23724,     0.23824,     0.23924,\n",
              "           0.24024,     0.24124,     0.24224,     0.24324,     0.24424,     0.24525,     0.24625,     0.24725,     0.24825,     0.24925,     0.25025,     0.25125,     0.25225,     0.25325,     0.25425,     0.25526,     0.25626,     0.25726,     0.25826,     0.25926,     0.26026,     0.26126,     0.26226,     0.26326,\n",
              "           0.26426,     0.26527,     0.26627,     0.26727,     0.26827,     0.26927,     0.27027,     0.27127,     0.27227,     0.27327,     0.27427,     0.27528,     0.27628,     0.27728,     0.27828,     0.27928,     0.28028,     0.28128,     0.28228,     0.28328,     0.28428,     0.28529,     0.28629,     0.28729,\n",
              "           0.28829,     0.28929,     0.29029,     0.29129,     0.29229,     0.29329,     0.29429,      0.2953,      0.2963,      0.2973,      0.2983,      0.2993,      0.3003,      0.3013,      0.3023,      0.3033,      0.3043,     0.30531,     0.30631,     0.30731,     0.30831,     0.30931,     0.31031,     0.31131,\n",
              "           0.31231,     0.31331,     0.31431,     0.31532,     0.31632,     0.31732,     0.31832,     0.31932,     0.32032,     0.32132,     0.32232,     0.32332,     0.32432,     0.32533,     0.32633,     0.32733,     0.32833,     0.32933,     0.33033,     0.33133,     0.33233,     0.33333,     0.33433,     0.33534,\n",
              "           0.33634,     0.33734,     0.33834,     0.33934,     0.34034,     0.34134,     0.34234,     0.34334,     0.34434,     0.34535,     0.34635,     0.34735,     0.34835,     0.34935,     0.35035,     0.35135,     0.35235,     0.35335,     0.35435,     0.35536,     0.35636,     0.35736,     0.35836,     0.35936,\n",
              "           0.36036,     0.36136,     0.36236,     0.36336,     0.36436,     0.36537,     0.36637,     0.36737,     0.36837,     0.36937,     0.37037,     0.37137,     0.37237,     0.37337,     0.37437,     0.37538,     0.37638,     0.37738,     0.37838,     0.37938,     0.38038,     0.38138,     0.38238,     0.38338,\n",
              "           0.38438,     0.38539,     0.38639,     0.38739,     0.38839,     0.38939,     0.39039,     0.39139,     0.39239,     0.39339,     0.39439,      0.3954,      0.3964,      0.3974,      0.3984,      0.3994,      0.4004,      0.4014,      0.4024,      0.4034,      0.4044,     0.40541,     0.40641,     0.40741,\n",
              "           0.40841,     0.40941,     0.41041,     0.41141,     0.41241,     0.41341,     0.41441,     0.41542,     0.41642,     0.41742,     0.41842,     0.41942,     0.42042,     0.42142,     0.42242,     0.42342,     0.42442,     0.42543,     0.42643,     0.42743,     0.42843,     0.42943,     0.43043,     0.43143,\n",
              "           0.43243,     0.43343,     0.43443,     0.43544,     0.43644,     0.43744,     0.43844,     0.43944,     0.44044,     0.44144,     0.44244,     0.44344,     0.44444,     0.44545,     0.44645,     0.44745,     0.44845,     0.44945,     0.45045,     0.45145,     0.45245,     0.45345,     0.45445,     0.45546,\n",
              "           0.45646,     0.45746,     0.45846,     0.45946,     0.46046,     0.46146,     0.46246,     0.46346,     0.46446,     0.46547,     0.46647,     0.46747,     0.46847,     0.46947,     0.47047,     0.47147,     0.47247,     0.47347,     0.47447,     0.47548,     0.47648,     0.47748,     0.47848,     0.47948,\n",
              "           0.48048,     0.48148,     0.48248,     0.48348,     0.48448,     0.48549,     0.48649,     0.48749,     0.48849,     0.48949,     0.49049,     0.49149,     0.49249,     0.49349,     0.49449,      0.4955,      0.4965,      0.4975,      0.4985,      0.4995,      0.5005,      0.5015,      0.5025,      0.5035,\n",
              "            0.5045,     0.50551,     0.50651,     0.50751,     0.50851,     0.50951,     0.51051,     0.51151,     0.51251,     0.51351,     0.51451,     0.51552,     0.51652,     0.51752,     0.51852,     0.51952,     0.52052,     0.52152,     0.52252,     0.52352,     0.52452,     0.52553,     0.52653,     0.52753,\n",
              "           0.52853,     0.52953,     0.53053,     0.53153,     0.53253,     0.53353,     0.53453,     0.53554,     0.53654,     0.53754,     0.53854,     0.53954,     0.54054,     0.54154,     0.54254,     0.54354,     0.54454,     0.54555,     0.54655,     0.54755,     0.54855,     0.54955,     0.55055,     0.55155,\n",
              "           0.55255,     0.55355,     0.55455,     0.55556,     0.55656,     0.55756,     0.55856,     0.55956,     0.56056,     0.56156,     0.56256,     0.56356,     0.56456,     0.56557,     0.56657,     0.56757,     0.56857,     0.56957,     0.57057,     0.57157,     0.57257,     0.57357,     0.57457,     0.57558,\n",
              "           0.57658,     0.57758,     0.57858,     0.57958,     0.58058,     0.58158,     0.58258,     0.58358,     0.58458,     0.58559,     0.58659,     0.58759,     0.58859,     0.58959,     0.59059,     0.59159,     0.59259,     0.59359,     0.59459,      0.5956,      0.5966,      0.5976,      0.5986,      0.5996,\n",
              "            0.6006,      0.6016,      0.6026,      0.6036,      0.6046,     0.60561,     0.60661,     0.60761,     0.60861,     0.60961,     0.61061,     0.61161,     0.61261,     0.61361,     0.61461,     0.61562,     0.61662,     0.61762,     0.61862,     0.61962,     0.62062,     0.62162,     0.62262,     0.62362,\n",
              "           0.62462,     0.62563,     0.62663,     0.62763,     0.62863,     0.62963,     0.63063,     0.63163,     0.63263,     0.63363,     0.63463,     0.63564,     0.63664,     0.63764,     0.63864,     0.63964,     0.64064,     0.64164,     0.64264,     0.64364,     0.64464,     0.64565,     0.64665,     0.64765,\n",
              "           0.64865,     0.64965,     0.65065,     0.65165,     0.65265,     0.65365,     0.65465,     0.65566,     0.65666,     0.65766,     0.65866,     0.65966,     0.66066,     0.66166,     0.66266,     0.66366,     0.66466,     0.66567,     0.66667,     0.66767,     0.66867,     0.66967,     0.67067,     0.67167,\n",
              "           0.67267,     0.67367,     0.67467,     0.67568,     0.67668,     0.67768,     0.67868,     0.67968,     0.68068,     0.68168,     0.68268,     0.68368,     0.68468,     0.68569,     0.68669,     0.68769,     0.68869,     0.68969,     0.69069,     0.69169,     0.69269,     0.69369,     0.69469,      0.6957,\n",
              "            0.6967,      0.6977,      0.6987,      0.6997,      0.7007,      0.7017,      0.7027,      0.7037,      0.7047,     0.70571,     0.70671,     0.70771,     0.70871,     0.70971,     0.71071,     0.71171,     0.71271,     0.71371,     0.71471,     0.71572,     0.71672,     0.71772,     0.71872,     0.71972,\n",
              "           0.72072,     0.72172,     0.72272,     0.72372,     0.72472,     0.72573,     0.72673,     0.72773,     0.72873,     0.72973,     0.73073,     0.73173,     0.73273,     0.73373,     0.73473,     0.73574,     0.73674,     0.73774,     0.73874,     0.73974,     0.74074,     0.74174,     0.74274,     0.74374,\n",
              "           0.74474,     0.74575,     0.74675,     0.74775,     0.74875,     0.74975,     0.75075,     0.75175,     0.75275,     0.75375,     0.75475,     0.75576,     0.75676,     0.75776,     0.75876,     0.75976,     0.76076,     0.76176,     0.76276,     0.76376,     0.76476,     0.76577,     0.76677,     0.76777,\n",
              "           0.76877,     0.76977,     0.77077,     0.77177,     0.77277,     0.77377,     0.77477,     0.77578,     0.77678,     0.77778,     0.77878,     0.77978,     0.78078,     0.78178,     0.78278,     0.78378,     0.78478,     0.78579,     0.78679,     0.78779,     0.78879,     0.78979,     0.79079,     0.79179,\n",
              "           0.79279,     0.79379,     0.79479,      0.7958,      0.7968,      0.7978,      0.7988,      0.7998,      0.8008,      0.8018,      0.8028,      0.8038,      0.8048,     0.80581,     0.80681,     0.80781,     0.80881,     0.80981,     0.81081,     0.81181,     0.81281,     0.81381,     0.81481,     0.81582,\n",
              "           0.81682,     0.81782,     0.81882,     0.81982,     0.82082,     0.82182,     0.82282,     0.82382,     0.82482,     0.82583,     0.82683,     0.82783,     0.82883,     0.82983,     0.83083,     0.83183,     0.83283,     0.83383,     0.83483,     0.83584,     0.83684,     0.83784,     0.83884,     0.83984,\n",
              "           0.84084,     0.84184,     0.84284,     0.84384,     0.84484,     0.84585,     0.84685,     0.84785,     0.84885,     0.84985,     0.85085,     0.85185,     0.85285,     0.85385,     0.85485,     0.85586,     0.85686,     0.85786,     0.85886,     0.85986,     0.86086,     0.86186,     0.86286,     0.86386,\n",
              "           0.86486,     0.86587,     0.86687,     0.86787,     0.86887,     0.86987,     0.87087,     0.87187,     0.87287,     0.87387,     0.87487,     0.87588,     0.87688,     0.87788,     0.87888,     0.87988,     0.88088,     0.88188,     0.88288,     0.88388,     0.88488,     0.88589,     0.88689,     0.88789,\n",
              "           0.88889,     0.88989,     0.89089,     0.89189,     0.89289,     0.89389,     0.89489,      0.8959,      0.8969,      0.8979,      0.8989,      0.8999,      0.9009,      0.9019,      0.9029,      0.9039,      0.9049,     0.90591,     0.90691,     0.90791,     0.90891,     0.90991,     0.91091,     0.91191,\n",
              "           0.91291,     0.91391,     0.91491,     0.91592,     0.91692,     0.91792,     0.91892,     0.91992,     0.92092,     0.92192,     0.92292,     0.92392,     0.92492,     0.92593,     0.92693,     0.92793,     0.92893,     0.92993,     0.93093,     0.93193,     0.93293,     0.93393,     0.93493,     0.93594,\n",
              "           0.93694,     0.93794,     0.93894,     0.93994,     0.94094,     0.94194,     0.94294,     0.94394,     0.94494,     0.94595,     0.94695,     0.94795,     0.94895,     0.94995,     0.95095,     0.95195,     0.95295,     0.95395,     0.95495,     0.95596,     0.95696,     0.95796,     0.95896,     0.95996,\n",
              "           0.96096,     0.96196,     0.96296,     0.96396,     0.96496,     0.96597,     0.96697,     0.96797,     0.96897,     0.96997,     0.97097,     0.97197,     0.97297,     0.97397,     0.97497,     0.97598,     0.97698,     0.97798,     0.97898,     0.97998,     0.98098,     0.98198,     0.98298,     0.98398,\n",
              "           0.98498,     0.98599,     0.98699,     0.98799,     0.98899,     0.98999,     0.99099,     0.99199,     0.99299,     0.99399,     0.99499,       0.996,       0.997,       0.998,       0.999,           1]), array([[    0.86567,     0.86567,     0.86567,     0.86567,     0.86567,     0.86567,     0.86567,     0.86567,     0.86567,     0.86567,     0.86567,     0.86567,     0.86567,     0.86567,     0.86567,     0.86567,     0.86567,     0.86567,     0.86567,     0.86567,     0.86567,     0.86567,     0.86567,\n",
              "            0.86567,     0.86567,     0.86567,     0.86567,     0.86567,     0.86567,     0.86567,     0.86567,     0.86567,     0.86567,     0.86567,     0.86567,     0.86567,     0.86567,     0.86567,     0.86567,     0.86567,     0.86567,     0.86567,     0.86567,     0.86567,     0.86567,     0.86567,\n",
              "            0.86567,     0.86567,     0.86567,     0.86567,     0.86567,     0.86567,     0.86567,     0.86567,     0.86567,     0.86567,     0.85075,     0.85075,     0.85075,     0.85075,     0.85075,     0.85075,     0.85075,     0.85075,     0.85075,     0.83582,     0.83582,     0.83582,     0.83582,\n",
              "            0.83582,      0.8209,      0.8209,      0.8209,     0.80597,     0.79104,     0.77612,     0.76119,     0.76119,     0.76119,     0.76119,     0.76119,     0.74627,     0.74627,     0.73134,     0.73134,     0.73134,     0.73134,     0.73134,     0.73134,     0.73134,     0.73134,     0.73134,\n",
              "            0.73134,     0.73134,     0.73134,     0.73134,     0.73134,     0.73134,     0.73134,     0.71642,     0.71642,     0.71642,     0.71642,     0.70149,     0.70149,     0.70149,     0.70149,     0.70149,     0.70149,     0.70149,     0.70149,     0.68657,     0.68657,     0.68657,     0.67164,\n",
              "            0.67164,     0.67164,     0.65672,     0.65672,     0.65672,     0.65672,     0.64179,     0.64179,     0.64179,     0.64179,     0.64179,     0.64179,     0.64179,     0.62687,     0.62687,     0.61194,     0.61194,     0.61194,     0.61194,     0.61194,     0.61194,     0.61194,     0.61194,\n",
              "            0.61194,     0.61194,     0.61194,     0.61194,     0.61194,     0.61194,     0.61194,     0.61194,     0.59701,     0.59701,     0.59701,     0.59701,     0.59701,     0.59242,     0.58209,     0.58209,     0.58209,     0.58209,     0.56716,     0.56716,     0.56716,     0.56716,     0.56716,\n",
              "            0.56716,     0.56716,     0.56716,     0.56716,     0.56716,     0.55224,     0.55224,     0.53731,     0.53731,     0.53731,     0.52239,     0.52239,     0.48169,     0.47761,     0.47761,     0.47761,     0.47761,     0.47761,     0.47761,     0.47761,     0.47761,     0.47761,     0.47761,\n",
              "            0.47761,     0.46269,     0.46269,     0.46269,     0.46269,     0.46269,     0.46269,     0.46269,     0.46269,     0.46269,     0.46269,     0.44776,     0.44776,     0.44776,     0.44776,     0.44776,     0.44776,     0.44776,     0.44776,     0.44776,     0.44776,     0.44776,     0.44776,\n",
              "            0.44776,     0.44776,     0.44776,     0.44517,     0.43284,     0.43284,     0.43284,     0.43284,     0.43284,     0.43284,     0.43284,     0.43284,     0.42079,     0.41791,     0.41791,     0.41791,     0.41791,     0.41791,     0.41791,     0.41791,     0.41791,     0.40299,     0.40299,\n",
              "            0.40299,     0.40299,     0.40299,     0.38806,     0.38806,     0.37313,     0.37313,     0.37313,     0.37313,     0.37313,     0.37313,     0.37313,     0.37313,     0.37313,     0.37313,     0.37313,     0.37313,     0.35821,     0.35821,     0.35821,     0.35821,     0.35821,     0.35821,\n",
              "            0.35821,     0.35821,     0.35821,     0.35821,     0.35821,     0.35821,     0.35821,     0.35821,     0.35821,     0.35821,     0.35821,     0.35821,     0.35821,     0.35821,     0.35821,     0.35821,     0.35821,     0.35821,     0.35821,     0.35821,     0.35821,     0.35821,     0.35821,\n",
              "            0.35821,     0.35821,     0.35821,     0.35821,     0.35821,     0.35821,     0.35821,     0.35821,     0.35821,     0.35821,     0.35279,     0.34667,     0.34328,     0.34328,     0.34328,     0.34328,     0.34328,     0.34328,     0.34328,     0.34328,     0.34328,     0.34328,     0.34328,\n",
              "            0.34328,     0.34328,     0.34328,     0.34328,     0.34164,     0.32836,     0.32836,     0.32836,     0.32836,     0.32836,     0.32836,     0.32836,     0.32836,     0.32836,     0.32836,     0.32836,     0.32836,     0.32836,     0.32836,     0.32836,     0.32836,     0.32616,     0.31742,\n",
              "            0.31343,     0.31343,     0.31343,     0.31343,     0.31343,     0.31343,     0.31343,     0.31343,     0.31343,     0.31343,     0.31343,     0.31343,     0.31343,     0.31343,     0.31343,     0.31343,     0.31343,     0.31343,     0.31343,     0.31343,     0.31343,     0.31343,     0.31343,\n",
              "            0.31343,     0.31343,      0.3048,     0.29851,     0.29851,     0.29851,     0.29851,     0.29851,     0.29851,     0.28358,     0.28358,     0.28358,     0.28358,     0.28358,     0.28358,     0.28358,     0.28358,     0.28358,     0.28358,     0.28358,     0.28358,     0.28358,     0.28358,\n",
              "            0.28358,     0.28358,     0.28358,     0.27934,     0.26866,     0.26866,     0.26866,     0.26866,     0.26866,     0.26866,     0.26866,     0.24839,     0.24282,     0.23668,     0.22903,     0.22388,     0.22388,     0.22388,     0.22388,     0.22388,     0.22388,     0.22388,     0.22388,\n",
              "            0.22388,     0.22388,     0.22388,     0.22388,     0.21814,     0.20896,     0.20896,     0.20896,     0.20896,     0.20896,     0.20896,     0.20896,     0.20896,     0.20896,     0.20896,     0.20896,     0.20896,     0.20896,     0.20896,     0.20896,     0.20896,     0.20896,     0.20896,\n",
              "            0.20178,     0.19403,     0.19403,     0.19403,     0.19403,     0.19403,     0.19403,     0.19403,     0.19403,     0.19403,     0.19403,     0.19403,     0.19403,     0.19403,     0.19403,     0.19403,     0.19403,     0.19403,     0.19403,     0.19403,     0.19403,     0.19403,     0.19403,\n",
              "            0.19403,     0.19403,     0.19403,     0.19403,     0.19403,     0.19403,     0.19403,     0.19403,     0.19403,     0.19403,     0.19403,     0.19403,     0.19403,     0.19403,     0.19403,     0.19403,     0.19403,     0.19403,     0.19403,     0.19403,     0.19403,     0.19403,     0.19403,\n",
              "            0.19403,     0.19403,     0.19403,     0.19403,     0.19403,     0.19403,     0.19403,     0.19403,     0.19403,     0.19403,     0.19403,     0.19403,     0.19403,     0.19403,     0.19403,     0.19403,     0.19403,     0.19403,     0.19403,     0.19403,     0.19403,     0.19403,     0.19403,\n",
              "            0.19403,     0.19403,     0.19403,     0.19403,     0.19403,     0.19403,     0.19403,     0.19403,     0.19403,     0.19403,     0.19403,     0.19403,     0.19403,     0.19403,     0.19403,     0.19403,     0.19403,     0.19403,     0.19403,     0.19403,     0.19403,     0.19289,     0.19097,\n",
              "            0.18906,     0.18715,     0.18524,     0.18333,     0.18141,      0.1795,      0.1791,      0.1791,      0.1791,      0.1791,      0.1791,      0.1791,      0.1791,      0.1791,      0.1791,      0.1791,      0.1791,     0.17867,     0.17357,     0.16847,     0.14925,     0.14925,     0.14925,\n",
              "            0.14925,     0.14532,     0.13433,     0.13433,     0.13433,     0.13433,     0.13433,     0.13433,     0.13433,     0.13433,     0.13433,     0.13433,     0.13433,     0.13433,     0.13433,     0.13433,     0.13433,     0.13433,     0.13433,     0.13433,     0.13433,     0.13433,     0.13433,\n",
              "            0.13433,     0.13433,     0.13433,     0.13433,     0.13433,     0.13433,     0.13433,     0.13433,     0.13433,     0.13433,     0.13433,     0.13433,     0.13433,     0.13433,     0.13433,     0.13433,     0.13433,     0.13433,     0.13433,     0.13433,     0.13433,     0.13433,     0.13433,\n",
              "            0.13433,     0.13433,     0.13433,     0.13433,     0.13433,     0.13433,     0.13433,     0.13433,     0.13433,     0.13433,     0.13433,     0.13433,     0.13433,     0.13433,     0.13433,     0.13433,     0.13433,     0.13433,     0.13433,     0.13433,     0.13433,     0.13433,     0.13433,\n",
              "            0.13433,     0.13433,     0.13433,     0.13433,     0.13433,     0.13433,     0.13433,     0.13433,     0.13433,     0.13433,     0.13433,     0.13433,     0.13433,     0.13433,     0.13433,     0.13433,     0.13433,     0.13433,     0.13433,     0.13433,     0.13433,     0.13433,     0.13433,\n",
              "            0.13433,     0.13433,     0.13433,     0.13433,     0.13433,     0.13433,     0.13433,     0.13433,     0.13433,     0.13433,     0.13433,     0.13433,     0.13433,     0.13433,     0.13433,     0.13433,     0.13433,     0.13433,     0.13433,     0.13433,     0.13433,     0.13367,     0.12347,\n",
              "             0.1194,     0.11621,     0.11111,     0.10601,     0.10448,     0.10448,     0.10376,     0.10097,    0.098192,     0.09541,    0.092629,    0.089847,    0.089552,    0.089552,    0.089243,    0.088563,    0.087883,    0.087203,    0.086523,    0.085843,    0.085163,    0.084483,    0.083803,\n",
              "           0.083123,    0.082443,    0.081763,    0.081083,    0.080403,    0.079724,    0.079044,    0.078364,    0.077684,    0.077004,    0.076324,    0.075644,    0.074964,    0.074627,    0.074627,    0.074627,    0.074627,    0.074627,    0.070793,    0.064674,    0.059441,     0.05805,    0.056659,\n",
              "           0.055268,    0.053877,    0.052487,    0.051096,    0.049705,    0.048314,    0.046923,    0.045533,    0.043381,    0.040321,    0.037261,    0.034201,    0.031142,    0.029315,    0.028388,     0.02746,    0.026533,    0.025606,    0.024679,    0.023751,    0.022824,    0.021897,     0.02097,\n",
              "           0.020043,    0.019115,    0.018188,    0.017261,    0.016334,    0.015407,    0.014925,    0.014925,    0.014925,    0.014925,    0.014925,    0.014925,    0.014925,    0.014925,    0.014925,    0.014925,    0.014925,    0.014925,    0.014925,    0.014925,    0.014925,    0.014925,    0.014925,\n",
              "           0.014925,    0.014925,    0.014925,    0.014925,    0.014925,    0.014925,           0,           0,           0,           0,           0,           0,           0,           0,           0,           0,           0,           0,           0,           0,           0,           0,           0,\n",
              "                  0,           0,           0,           0,           0,           0,           0,           0,           0,           0,           0,           0,           0,           0,           0,           0,           0,           0,           0,           0,           0,           0,           0,\n",
              "                  0,           0,           0,           0,           0,           0,           0,           0,           0,           0,           0,           0,           0,           0,           0,           0,           0,           0,           0,           0,           0,           0,           0,\n",
              "                  0,           0,           0,           0,           0,           0,           0,           0,           0,           0,           0,           0,           0,           0,           0,           0,           0,           0,           0,           0,           0,           0,           0,\n",
              "                  0,           0,           0,           0,           0,           0,           0,           0,           0,           0,           0,           0,           0,           0,           0,           0,           0,           0,           0,           0,           0,           0,           0,\n",
              "                  0,           0,           0,           0,           0,           0,           0,           0,           0,           0,           0,           0,           0,           0,           0,           0,           0,           0,           0,           0,           0,           0,           0,\n",
              "                  0,           0,           0,           0,           0,           0,           0,           0,           0,           0,           0,           0,           0,           0,           0,           0,           0,           0,           0,           0,           0,           0,           0,\n",
              "                  0,           0,           0,           0,           0,           0,           0,           0,           0,           0,           0,           0,           0,           0,           0,           0,           0,           0,           0,           0,           0,           0,           0,\n",
              "                  0,           0,           0,           0,           0,           0,           0,           0,           0,           0,           0,           0,           0,           0,           0,           0,           0,           0,           0,           0,           0,           0,           0,\n",
              "                  0,           0,           0,           0,           0,           0,           0,           0,           0,           0,           0,           0,           0,           0,           0,           0,           0,           0,           0,           0,           0,           0,           0,\n",
              "                  0,           0,           0,           0,           0,           0,           0,           0,           0,           0,           0,           0,           0,           0,           0,           0,           0,           0,           0,           0,           0,           0,           0,\n",
              "                  0,           0,           0,           0,           0,           0,           0,           0,           0,           0,           0]]), 'Confidence', 'Recall']]\n",
              "fitness: 0.0785140333890143\n",
              "keys: ['metrics/precision(B)', 'metrics/recall(B)', 'metrics/mAP50(B)', 'metrics/mAP50-95(B)']\n",
              "maps: array([   0.067378])\n",
              "names: {0: 'Fire'}\n",
              "plot: True\n",
              "results_dict: {'metrics/precision(B)': 0.2765769980973882, 'metrics/recall(B)': 0.19402985074626866, 'metrics/mAP50(B)': 0.17874115254458012, 'metrics/mAP50-95(B)': 0.06737768681617366, 'fitness': 0.0785140333890143}\n",
              "save_dir: PosixPath('runs/detect/train7')\n",
              "speed: {'preprocess': 0.1838207244873047, 'inference': 4.804658889770508, 'loss': 0.00133514404296875, 'postprocess': 3.390073776245117}\n",
              "task: 'detect'"
            ]
          },
          "metadata": {},
          "execution_count": 12
        }
      ]
    },
    {
      "cell_type": "code",
      "source": [],
      "metadata": {
        "id": "Ntf7LpV7W9HZ"
      },
      "execution_count": null,
      "outputs": []
    }
  ]
}